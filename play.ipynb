{
 "cells": [
  {
   "cell_type": "code",
   "execution_count": 27,
   "metadata": {},
   "outputs": [
    {
     "name": "stdout",
     "output_type": "stream",
     "text": [
      "The autoreload extension is already loaded. To reload it, use:\n",
      "  %reload_ext autoreload\n"
     ]
    }
   ],
   "source": [
    "%load_ext autoreload"
   ]
  },
  {
   "cell_type": "code",
   "execution_count": 28,
   "metadata": {},
   "outputs": [],
   "source": [
    "%autoreload 2"
   ]
  },
  {
   "cell_type": "code",
   "execution_count": 29,
   "metadata": {},
   "outputs": [],
   "source": [
    "from eval import play,eval\n",
    "from play_rl.policy import Policy\n",
    "from play_rl.wrappers import GridGame\n",
    "from gan.env import Env\n",
    "import torch"
   ]
  },
  {
   "cell_type": "code",
   "execution_count": 31,
   "metadata": {},
   "outputs": [
    {
     "name": "stdout",
     "output_type": "stream",
     "text": [
      "Connecting to host 127.0.0.1 at port 41297 ...\n",
      "Client connected to server [OK]\n",
      "2.0 141\n"
     ]
    }
   ],
   "source": [
    "game_name = 'zelda'\n",
    "device = torch.device('cpu')\n",
    "env_def = Env(name=game_name)\n",
    "env = GridGame(game_name=game_name,play_length=200,shape=env_def.state_shape)\n",
    "\n",
    "actor = Policy(obs_shape=env.observation_space.shape, action_space=env.action_space,\n",
    "               base_kwargs={\"recurrent\": True}).to(device=device)\n",
    "actor.load_state_dict(torch.load(\"/root/mnt/GVGAI-GAN/play_rl/checkpoints/ppo/zelda_20220819152554.pt\"))\n",
    "\n",
    "with open('/root/mnt/GVGAI-GAN/gan/data/level/zelda/generated_good/zelda_1',mode='r') as f:\n",
    "    level_str = f.read()\n",
    "reward,step = play(level_str=level_str,env=env,actor=actor)\n",
    "print(reward,step)"
   ]
  }
 ],
 "metadata": {
  "interpreter": {
   "hash": "c6f04e54c30bdab06014272fe7a39801e1ba23455c10166a981ed4409abbe2cf"
  },
  "kernelspec": {
   "display_name": "Python 3.8.0 64-bit ('3.8.0')",
   "language": "python",
   "name": "python3"
  },
  "language_info": {
   "codemirror_mode": {
    "name": "ipython",
    "version": 3
   },
   "file_extension": ".py",
   "mimetype": "text/x-python",
   "name": "python",
   "nbconvert_exporter": "python",
   "pygments_lexer": "ipython3",
   "version": "3.8.0"
  },
  "orig_nbformat": 4
 },
 "nbformat": 4,
 "nbformat_minor": 2
}
