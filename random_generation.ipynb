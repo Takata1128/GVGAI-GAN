{
 "cells": [
  {
   "cell_type": "code",
   "execution_count": null,
   "metadata": {},
   "outputs": [],
   "source": []
  }
 ],
 "metadata": {
  "kernelspec": {
   "display_name": "Python 3.8.0 64-bit ('3.8.0')",
   "language": "python",
   "name": "python3"
  },
  "language_info": {
   "name": "python",
   "version": "3.8.0"
  },
  "orig_nbformat": 4,
  "vscode": {
   "interpreter": {
    "hash": "c6f04e54c30bdab06014272fe7a39801e1ba23455c10166a981ed4409abbe2cf"
   }
  }
 },
 "nbformat": 4,
 "nbformat_minor": 2
}
