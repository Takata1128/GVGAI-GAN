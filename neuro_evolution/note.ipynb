{
 "cells": [
  {
   "cell_type": "code",
   "execution_count": 1,
   "metadata": {},
   "outputs": [],
   "source": [
    "%load_ext autoreload\n",
    "%autoreload 2\n"
   ]
  },
  {
   "cell_type": "code",
   "execution_count": 2,
   "metadata": {},
   "outputs": [],
   "source": [
    "import sys\n",
    "import copy\n",
    "sys.path.append('./../')\n",
    "from gan.models.small_models import Generator\n",
    "from gan.config import SmallModelConfig\n",
    "from gan.utils import check_playable_zelda,tensor_to_level_str\n",
    "from NeuroEvolution import NeuroEvolution\n",
    "import torch\n",
    "\n",
    "config = SmallModelConfig()\n",
    "config.set_env()\n",
    "generator = Generator(config.input_shape[0],config.model_shapes,z_shape=(config.latent_size,),filters=config.generator_filters,use_linear4z2features_g=config.use_linear4z2features_g,use_self_attention=config.use_self_attention_g,use_deconv_g=config.use_deconv_g)"
   ]
  },
  {
   "cell_type": "code",
   "execution_count": 3,
   "metadata": {},
   "outputs": [
    {
     "data": {
      "text/plain": [
       "<All keys matched successfully>"
      ]
     },
     "execution_count": 3,
     "metadata": {},
     "output_type": "execute_result"
    }
   ],
   "source": [
    "model_dict = torch.load(\n",
    "    \"/root/mnt/pcg/GVGAI-GAN/gan/checkpoints/none-311/models_3500.tar\")\n",
    "generator.load_state_dict(model_dict['generator'])\n"
   ]
  },
  {
   "cell_type": "code",
   "execution_count": 4,
   "metadata": {},
   "outputs": [
    {
     "name": "stdout",
     "output_type": "stream",
     "text": [
      "torch.Size([32, 512, 3, 4])\n",
      "torch.Size([512])\n",
      "torch.Size([512])\n",
      "torch.Size([256, 512, 3, 3])\n",
      "torch.Size([256])\n",
      "torch.Size([256])\n",
      "torch.Size([256])\n",
      "torch.Size([1])\n",
      "torch.Size([32, 256, 1, 1])\n",
      "torch.Size([32])\n",
      "torch.Size([32, 256, 1, 1])\n",
      "torch.Size([32])\n",
      "torch.Size([256, 256, 1, 1])\n",
      "torch.Size([256])\n",
      "torch.Size([128, 256, 3, 3])\n",
      "torch.Size([128])\n",
      "torch.Size([128])\n",
      "torch.Size([128])\n",
      "torch.Size([1])\n",
      "torch.Size([16, 128, 1, 1])\n",
      "torch.Size([16])\n",
      "torch.Size([16, 128, 1, 1])\n",
      "torch.Size([16])\n",
      "torch.Size([128, 128, 1, 1])\n",
      "torch.Size([128])\n",
      "torch.Size([8, 128, 1, 1])\n",
      "torch.Size([8])\n"
     ]
    }
   ],
   "source": [
    "for param in generator.parameters():\n",
    "    print(param.shape)"
   ]
  },
  {
   "cell_type": "code",
   "execution_count": 5,
   "metadata": {},
   "outputs": [
    {
     "ename": "KeyboardInterrupt",
     "evalue": "",
     "output_type": "error",
     "traceback": [
      "\u001b[0;31m---------------------------------------------------------------------------\u001b[0m",
      "\u001b[0;31mKeyboardInterrupt\u001b[0m                         Traceback (most recent call last)",
      "\u001b[1;32mセル5 を /root/mnt/pcg/GVGAI-GAN/neuro_evolution/note.ipynb\u001b[0m in \u001b[0;36m<cell line: 35>\u001b[0;34m()\u001b[0m\n\u001b[1;32m     <a href='vscode-notebook-cell://attached-container%2B7b22636f6e7461696e65724e616d65223a222f74657374222c2273657474696e6773223a7b22686f7374223a227373683a2f2f646778736572766572227d7d/root/mnt/pcg/GVGAI-GAN/neuro_evolution/note.ipynb#W4sdnNjb2RlLXJlbW90ZQ%3D%3D?line=29'>30</a>\u001b[0m ne \u001b[39m=\u001b[39m NeuroEvolution(\n\u001b[1;32m     <a href='vscode-notebook-cell://attached-container%2B7b22636f6e7461696e65724e616d65223a222f74657374222c2273657474696e6773223a7b22686f7374223a227373683a2f2f646778736572766572227d7d/root/mnt/pcg/GVGAI-GAN/neuro_evolution/note.ipynb#W4sdnNjb2RlLXJlbW90ZQ%3D%3D?line=30'>31</a>\u001b[0m     mother_parameters,partial_func,population_size\u001b[39m=\u001b[39m\u001b[39m15\u001b[39m,sigma\u001b[39m=\u001b[39m\u001b[39m0.1\u001b[39m\n\u001b[1;32m     <a href='vscode-notebook-cell://attached-container%2B7b22636f6e7461696e65724e616d65223a222f74657374222c2273657474696e6773223a7b22686f7374223a227373683a2f2f646778736572766572227d7d/root/mnt/pcg/GVGAI-GAN/neuro_evolution/note.ipynb#W4sdnNjb2RlLXJlbW90ZQ%3D%3D?line=31'>32</a>\u001b[0m )\n\u001b[1;32m     <a href='vscode-notebook-cell://attached-container%2B7b22636f6e7461696e65724e616d65223a222f74657374222c2273657474696e6773223a7b22686f7374223a227373683a2f2f646778736572766572227d7d/root/mnt/pcg/GVGAI-GAN/neuro_evolution/note.ipynb#W4sdnNjb2RlLXJlbW90ZQ%3D%3D?line=33'>34</a>\u001b[0m start \u001b[39m=\u001b[39m time\u001b[39m.\u001b[39mtime()\n\u001b[0;32m---> <a href='vscode-notebook-cell://attached-container%2B7b22636f6e7461696e65724e616d65223a222f74657374222c2273657474696e6773223a7b22686f7374223a227373683a2f2f646778736572766572227d7d/root/mnt/pcg/GVGAI-GAN/neuro_evolution/note.ipynb#W4sdnNjb2RlLXJlbW90ZQ%3D%3D?line=34'>35</a>\u001b[0m final_weights \u001b[39m=\u001b[39m ne\u001b[39m.\u001b[39;49mrun(\u001b[39m10000\u001b[39;49m, print_step\u001b[39m=\u001b[39;49m\u001b[39m10\u001b[39;49m)\n\u001b[1;32m     <a href='vscode-notebook-cell://attached-container%2B7b22636f6e7461696e65724e616d65223a222f74657374222c2273657474696e6773223a7b22686f7374223a227373683a2f2f646778736572766572227d7d/root/mnt/pcg/GVGAI-GAN/neuro_evolution/note.ipynb#W4sdnNjb2RlLXJlbW90ZQ%3D%3D?line=35'>36</a>\u001b[0m end \u001b[39m=\u001b[39m time\u001b[39m.\u001b[39mtime() \u001b[39m-\u001b[39m start\n\u001b[1;32m     <a href='vscode-notebook-cell://attached-container%2B7b22636f6e7461696e65724e616d65223a222f74657374222c2273657474696e6773223a7b22686f7374223a227373683a2f2f646778736572766572227d7d/root/mnt/pcg/GVGAI-GAN/neuro_evolution/note.ipynb#W4sdnNjb2RlLXJlbW90ZQ%3D%3D?line=36'>37</a>\u001b[0m \u001b[39mprint\u001b[39m(\u001b[39m\"\u001b[39m\u001b[39mTotal time: \u001b[39m\u001b[39m{}\u001b[39;00m\u001b[39m\"\u001b[39m, end)\n",
      "File \u001b[0;32m~/mnt/pcg/GVGAI-GAN/neuro_evolution/NeuroEvolution.py:111\u001b[0m, in \u001b[0;36mNeuroEvolution.run\u001b[0;34m(self, iterations, print_step)\u001b[0m\n\u001b[1;32m    109\u001b[0m rewards_list \u001b[39m=\u001b[39m np\u001b[39m.\u001b[39mzeros((\u001b[39m10\u001b[39m,))\n\u001b[1;32m    110\u001b[0m \u001b[39mfor\u001b[39;00m _ \u001b[39min\u001b[39;00m \u001b[39mrange\u001b[39m(\u001b[39mself\u001b[39m\u001b[39m.\u001b[39mcand_test_times):\n\u001b[0;32m--> 111\u001b[0m     rewards \u001b[39m=\u001b[39m \u001b[39mself\u001b[39;49m\u001b[39m.\u001b[39;49mpool\u001b[39m.\u001b[39;49mmap(\n\u001b[1;32m    112\u001b[0m         \u001b[39mself\u001b[39;49m\u001b[39m.\u001b[39;49mreward_function,\n\u001b[1;32m    113\u001b[0m         [p[\u001b[39m0\u001b[39;49m] \u001b[39mfor\u001b[39;49;00m p \u001b[39min\u001b[39;49;00m elite_c]\n\u001b[1;32m    114\u001b[0m     )\n\u001b[1;32m    116\u001b[0m     rewards_list \u001b[39m+\u001b[39m\u001b[39m=\u001b[39m np\u001b[39m.\u001b[39marray(rewards)\n\u001b[1;32m    117\u001b[0m rewards_list \u001b[39m/\u001b[39m\u001b[39m=\u001b[39m \u001b[39mself\u001b[39m\u001b[39m.\u001b[39mcand_test_times\n",
      "File \u001b[0;32m~/.pyenv/versions/3.8.0/lib/python3.8/multiprocessing/pool.py:364\u001b[0m, in \u001b[0;36mPool.map\u001b[0;34m(self, func, iterable, chunksize)\u001b[0m\n\u001b[1;32m    359\u001b[0m \u001b[39mdef\u001b[39;00m \u001b[39mmap\u001b[39m(\u001b[39mself\u001b[39m, func, iterable, chunksize\u001b[39m=\u001b[39m\u001b[39mNone\u001b[39;00m):\n\u001b[1;32m    360\u001b[0m     \u001b[39m'''\u001b[39;00m\n\u001b[1;32m    361\u001b[0m \u001b[39m    Apply `func` to each element in `iterable`, collecting the results\u001b[39;00m\n\u001b[1;32m    362\u001b[0m \u001b[39m    in a list that is returned.\u001b[39;00m\n\u001b[1;32m    363\u001b[0m \u001b[39m    '''\u001b[39;00m\n\u001b[0;32m--> 364\u001b[0m     \u001b[39mreturn\u001b[39;00m \u001b[39mself\u001b[39;49m\u001b[39m.\u001b[39;49m_map_async(func, iterable, mapstar, chunksize)\u001b[39m.\u001b[39;49mget()\n",
      "File \u001b[0;32m~/.pyenv/versions/3.8.0/lib/python3.8/multiprocessing/pool.py:762\u001b[0m, in \u001b[0;36mApplyResult.get\u001b[0;34m(self, timeout)\u001b[0m\n\u001b[1;32m    761\u001b[0m \u001b[39mdef\u001b[39;00m \u001b[39mget\u001b[39m(\u001b[39mself\u001b[39m, timeout\u001b[39m=\u001b[39m\u001b[39mNone\u001b[39;00m):\n\u001b[0;32m--> 762\u001b[0m     \u001b[39mself\u001b[39;49m\u001b[39m.\u001b[39;49mwait(timeout)\n\u001b[1;32m    763\u001b[0m     \u001b[39mif\u001b[39;00m \u001b[39mnot\u001b[39;00m \u001b[39mself\u001b[39m\u001b[39m.\u001b[39mready():\n\u001b[1;32m    764\u001b[0m         \u001b[39mraise\u001b[39;00m \u001b[39mTimeoutError\u001b[39;00m\n",
      "File \u001b[0;32m~/.pyenv/versions/3.8.0/lib/python3.8/multiprocessing/pool.py:759\u001b[0m, in \u001b[0;36mApplyResult.wait\u001b[0;34m(self, timeout)\u001b[0m\n\u001b[1;32m    758\u001b[0m \u001b[39mdef\u001b[39;00m \u001b[39mwait\u001b[39m(\u001b[39mself\u001b[39m, timeout\u001b[39m=\u001b[39m\u001b[39mNone\u001b[39;00m):\n\u001b[0;32m--> 759\u001b[0m     \u001b[39mself\u001b[39;49m\u001b[39m.\u001b[39;49m_event\u001b[39m.\u001b[39;49mwait(timeout)\n",
      "File \u001b[0;32m~/.pyenv/versions/3.8.0/lib/python3.8/threading.py:558\u001b[0m, in \u001b[0;36mEvent.wait\u001b[0;34m(self, timeout)\u001b[0m\n\u001b[1;32m    556\u001b[0m signaled \u001b[39m=\u001b[39m \u001b[39mself\u001b[39m\u001b[39m.\u001b[39m_flag\n\u001b[1;32m    557\u001b[0m \u001b[39mif\u001b[39;00m \u001b[39mnot\u001b[39;00m signaled:\n\u001b[0;32m--> 558\u001b[0m     signaled \u001b[39m=\u001b[39m \u001b[39mself\u001b[39;49m\u001b[39m.\u001b[39;49m_cond\u001b[39m.\u001b[39;49mwait(timeout)\n\u001b[1;32m    559\u001b[0m \u001b[39mreturn\u001b[39;00m signaled\n",
      "File \u001b[0;32m~/.pyenv/versions/3.8.0/lib/python3.8/threading.py:302\u001b[0m, in \u001b[0;36mCondition.wait\u001b[0;34m(self, timeout)\u001b[0m\n\u001b[1;32m    300\u001b[0m \u001b[39mtry\u001b[39;00m:    \u001b[39m# restore state no matter what (e.g., KeyboardInterrupt)\u001b[39;00m\n\u001b[1;32m    301\u001b[0m     \u001b[39mif\u001b[39;00m timeout \u001b[39mis\u001b[39;00m \u001b[39mNone\u001b[39;00m:\n\u001b[0;32m--> 302\u001b[0m         waiter\u001b[39m.\u001b[39;49macquire()\n\u001b[1;32m    303\u001b[0m         gotit \u001b[39m=\u001b[39m \u001b[39mTrue\u001b[39;00m\n\u001b[1;32m    304\u001b[0m     \u001b[39melse\u001b[39;00m:\n",
      "\u001b[0;31mKeyboardInterrupt\u001b[0m: "
     ]
    }
   ],
   "source": [
    "\n",
    "\n",
    "from functools import partial\n",
    "import time\n",
    "\n",
    "\n",
    "def get_reward(weights,model,render=False):\n",
    "    cloned_generator = copy.deepcopy(generator)\n",
    "    for i,param in enumerate(list(cloned_generator.parameters())[-8:]):\n",
    "        try:\n",
    "            param.data = weights[i]\n",
    "        except:\n",
    "            param.data = weights[i].data\n",
    "    latents = torch.randn(100,32,)\n",
    "    def generate_levels(latents, labels):\n",
    "        p_level = torch.softmax(\n",
    "            generator(latents, labels), dim=1)\n",
    "        level_strs = tensor_to_level_str(\n",
    "            'zelda', p_level)\n",
    "        return level_strs\n",
    "    levels = generate_levels(latents, labels=None)\n",
    "    playable_levels = []\n",
    "    for level_str in levels:\n",
    "        if check_playable_zelda(level_str, 'v1'):\n",
    "            playable_levels.append(level_str)\n",
    "    del cloned_generator\n",
    "    return len(playable_levels)\n",
    "\n",
    "partial_func = partial(get_reward,model=generator)\n",
    "mother_parameters =list(generator.parameters())[-8:]\n",
    "\n",
    "ne = NeuroEvolution(\n",
    "    mother_parameters,partial_func,population_size=15,sigma=0.1\n",
    ")\n",
    "\n",
    "start = time.time()\n",
    "final_weights = ne.run(10000, print_step=1)\n",
    "end = time.time() - start\n",
    "print(\"Total time: {}\", end)\n"
   ]
  }
 ],
 "metadata": {
  "kernelspec": {
   "display_name": "Python 3.8.0 64-bit ('3.8.0')",
   "language": "python",
   "name": "python3"
  },
  "language_info": {
   "name": "python",
   "version": "3.8.0"
  },
  "orig_nbformat": 4,
  "vscode": {
   "interpreter": {
    "hash": "c6f04e54c30bdab06014272fe7a39801e1ba23455c10166a981ed4409abbe2cf"
   }
  }
 },
 "nbformat": 4,
 "nbformat_minor": 2
}
