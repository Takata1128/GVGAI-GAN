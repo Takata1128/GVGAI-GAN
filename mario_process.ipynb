{
 "cells": [
  {
   "cell_type": "code",
   "execution_count": 2,
   "metadata": {},
   "outputs": [],
   "source": [
    "with open(\"/root/mnt/pcg/GVGAI-GAN/gan/data/level/mario_v0/mario_base.txt\", mode='r') as f:\n",
    "    lines = f.readlines()\n",
    "\n",
    "dic = {}\n",
    "\n",
    "for line in lines:\n",
    "    i=0\n",
    "    while len(line)>28:\n",
    "        if i in dic.keys():\n",
    "            dic[i] = dic[i]+'\\n'+line[:28]\n",
    "        else:\n",
    "            dic[i] = line[:28]\n",
    "        line = line[1:]\n",
    "        i+=1\n",
    "\n",
    "for i,lvl_str in dic.items():\n",
    "    with open(f\"/root/mnt/pcg/GVGAI-GAN/gan/data/level/mario_v0/originals/mario_{i}.txt\",mode='w') as f:\n",
    "        f.write(dic[i])\n"
   ]
  }
 ],
 "metadata": {
  "kernelspec": {
   "display_name": "Python 3.8.0 64-bit ('3.8.0')",
   "language": "python",
   "name": "python3"
  },
  "language_info": {
   "codemirror_mode": {
    "name": "ipython",
    "version": 3
   },
   "file_extension": ".py",
   "mimetype": "text/x-python",
   "name": "python",
   "nbconvert_exporter": "python",
   "pygments_lexer": "ipython3",
   "version": "3.8.0"
  },
  "orig_nbformat": 4,
  "vscode": {
   "interpreter": {
    "hash": "c6f04e54c30bdab06014272fe7a39801e1ba23455c10166a981ed4409abbe2cf"
   }
  }
 },
 "nbformat": 4,
 "nbformat_minor": 2
}
