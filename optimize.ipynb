{
 "cells": [
  {
   "cell_type": "code",
   "execution_count": 42,
   "metadata": {},
   "outputs": [],
   "source": [
    "import torch\n",
    "import numpy as np\n",
    "import os\n",
    "import cma\n",
    "from eval import play\n",
    "from gan.config import SmallModelConfig\n",
    "from gan.small_models import Generator\n",
    "from gan.utils import tensor_to_level_str,check_playable\n",
    "from gan.level_visualizer import LevelVisualizer\n",
    "from play_rl.env import Env\n",
    "from play_rl.wrappers import GridGame\n",
    "from play_rl.policy import Policy\n",
    "from PIL import Image"
   ]
  },
  {
   "cell_type": "code",
   "execution_count": 43,
   "metadata": {},
   "outputs": [
    {
     "name": "stdout",
     "output_type": "stream",
     "text": [
      "device : cpu\n"
     ]
    }
   ],
   "source": [
    "config = SmallModelConfig()\n",
    "config.set_env()\n",
    "config.cuda = False\n",
    "if config.cuda:\n",
    "    device = torch.device(\n",
    "        \"cuda\" if torch.cuda.is_available else \"cpu\")\n",
    "    print(\"device : cuda\")\n",
    "else:\n",
    "    device = torch.device(\"cpu\")\n",
    "    print(\"device : cpu\")\n",
    "generator = Generator(\n",
    "    out_dim=config.input_shape[0],\n",
    "    shapes=config.model_shapes,\n",
    "    z_shape=(config.latent_size,),\n",
    "    filters=config.generator_filters,\n",
    ").to(device)\n",
    "env_def = Env(config.env_name,config.env_version)\n",
    "level_visualizer = LevelVisualizer(env=env_def)\n",
    "\n",
    "model_path = os.path.join(\n",
    "    \"/root/mnt/GVGAI-GAN/gan/checkpoints/none-866\", \"models_1160.tar\")\n",
    "load_model = torch.load(model_path)\n",
    "generator.load_state_dict(load_model[\"generator\"])\n",
    "x = torch.randn(config.latent_size).to(device)\n"
   ]
  },
  {
   "cell_type": "code",
   "execution_count": 44,
   "metadata": {},
   "outputs": [
    {
     "name": "stdout",
     "output_type": "stream",
     "text": [
      "Connecting to host 127.0.0.1 at port 41465 ...\n",
      "Client connected to server [OK]\n",
      "(7_w,14)-aCMA-ES (mu_w=4.3,w_1=36%) in dimension 32 (seed=890334, Tue Aug 30 03:02:22 2022)\n",
      "Iterat #Fevals   function value  axis ratio  sigma  min&max std  t[m:s]\n",
      "    1     14 1.000000000000000e+02 1.0e+00 2.85e-01  3e-01  3e-01 0:00.1\n",
      "INIT:  [ 1.76693094  1.56907833 -0.09770636 -0.60251617  1.22003567 -1.61887372\n",
      "  2.13235021 -0.26763019 -0.00707452 -2.29846072  0.50046474  0.42246124\n",
      "  0.20982257  1.71643341  0.68626428 -1.01465297  0.33398569  0.27124712\n",
      "  0.62921721 -0.91158217  0.28969544  0.85712343 -3.27496219  0.57202262\n",
      " -0.7486257  -0.60968941 -1.60721123  0.04887146  0.02952653  0.65818495\n",
      "  0.93487525 -2.98538017]\n",
      "BEST:  [ 1.44754368  1.00806698  0.27181329 -1.09996415  0.87078837 -1.89453099\n",
      "  2.04913945 -0.26010718  0.20248001 -1.76968901  0.40007131 -0.08521532\n",
      "  0.18229152  1.68923916  1.02807517 -0.992192    0.23667346  0.30202551\n",
      "  0.44369644 -0.62675933 -0.27007579  0.86434676 -3.51025704  0.72039635\n",
      " -0.52301437 -0.81608322 -2.32453034  0.60586183  0.1726695   0.95226914\n",
      "  0.52516809 -2.62347669]\n",
      "Fitness:  100\n"
     ]
    },
    {
     "data": {
      "image/png": "[encoded data removed]",
      "text/plain": [
       "<PIL.Image.Image image mode=RGB size=260x196 at 0x7F4D2CA72B50>"
      ]
     },
     "metadata": {},
     "output_type": "display_data"
    },
    {
     "data": {
      "image/png": "[encoded data removed]",
      "text/plain": [
       "<PIL.Image.Image image mode=RGB size=260x196 at 0x7F4D2CA72190>"
      ]
     },
     "metadata": {},
     "output_type": "display_data"
    }
   ],
   "source": [
    "def eval(level_str):\n",
    "    wall = 0\n",
    "    enemy = 0\n",
    "    for i, s in enumerate(level_str):\n",
    "        for j, c in enumerate(s):\n",
    "            if c == 'w':\n",
    "                wall += 1\n",
    "            if c in ['1', '2', '3']:\n",
    "                enemy += 1\n",
    "    return wall + enemy*10\n",
    "\n",
    "\n",
    "env = GridGame(config.env_name, 200, env_def.state_shape)\n",
    "actor = Policy(env.observation_space.shape, env.action_space)\n",
    "actor.load_state_dict(torch.load('/root/mnt/GVGAI-GAN/play_rl/checkpoints/ppo/zelda_20220825102126.pt'))\n",
    "\n",
    "def fitness(x: torch.Tensor):\n",
    "    x = np.array(x)\n",
    "    latent = torch.FloatTensor(x).view(1, -1, 1, 1)\n",
    "    level = generator(latent)\n",
    "    level_str = tensor_to_level_str('zelda', level)\n",
    "    playable = check_playable(level_str[0])\n",
    "    if not playable:\n",
    "        return 100\n",
    "    reward,step = play(level_str[0],env=env,actor=actor)\n",
    "    return -(reward*100+step)\n",
    "    # ev = eval(level_str)\n",
    "    # return -ev\n",
    "\n",
    "def show(x):\n",
    "    p_level = torch.nn.Softmax2d()(generator(x))\n",
    "    level_strs = tensor_to_level_str(\n",
    "        config.env_name, p_level)\n",
    "    p_level_img = np.array(level_visualizer.draw_level(level_strs[0]))\n",
    "    image = Image.fromarray(p_level_img)\n",
    "    image.show()\n",
    "\n",
    "es = cma.CMAEvolutionStrategy(x.tolist(), 0.3)\n",
    "es.optimize(fitness)\n",
    "best = np.array(es.best.get()[0])\n",
    "print(\"INIT: \", np.array(x.tolist()))\n",
    "print(\"BEST: \", best)\n",
    "print(\"Fitness: \", fitness(best))\n",
    "\n",
    "show(x)\n",
    "show(torch.FloatTensor(best))\n"
   ]
  },
  {
   "cell_type": "code",
   "execution_count": null,
   "metadata": {},
   "outputs": [],
   "source": []
  }
 ],
 "metadata": {
  "interpreter": {
   "hash": "c6f04e54c30bdab06014272fe7a39801e1ba23455c10166a981ed4409abbe2cf"
  },
  "kernelspec": {
   "display_name": "Python 3.8.0 64-bit ('3.8.0')",
   "language": "python",
   "name": "python3"
  },
  "language_info": {
   "codemirror_mode": {
    "name": "ipython",
    "version": 3
   },
   "file_extension": ".py",
   "mimetype": "text/x-python",
   "name": "python",
   "nbconvert_exporter": "python",
   "pygments_lexer": "ipython3",
   "version": "3.8.0"
  },
  "orig_nbformat": 4,
  "vscode": {
   "interpreter": {
    "hash": "c6f04e54c30bdab06014272fe7a39801e1ba23455c10166a981ed4409abbe2cf"
   }
  }
 },
 "nbformat": 4,
 "nbformat_minor": 2
}
