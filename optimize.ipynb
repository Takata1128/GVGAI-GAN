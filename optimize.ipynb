{
 "cells": [
  {
   "cell_type": "code",
   "execution_count": 2,
   "metadata": {},
   "outputs": [],
   "source": [
    "import torch\n",
    "import numpy as np\n",
    "import os\n",
    "from gan.config import SmallModelConfig\n",
    "from gan.models import Generator\n",
    "from gan.utils import tensor_to_level_str,check_playable"
   ]
  },
  {
   "cell_type": "code",
   "execution_count": 6,
   "metadata": {},
   "outputs": [
    {
     "name": "stdout",
     "output_type": "stream",
     "text": [
      "device : cuda\n"
     ]
    },
    {
     "ename": "RuntimeError",
     "evalue": "Error(s) in loading state_dict for Generator:\n\tMissing key(s) in state_dict: \"blocks.0.conv.weight\", \"blocks.0.bn.weight\", \"blocks.0.bn.bias\", \"blocks.0.bn.running_mean\", \"blocks.0.bn.running_var\", \"blocks.0.attn.gamma\", \"blocks.0.attn.query_conv.weight\", \"blocks.0.attn.query_conv.bias\", \"blocks.0.attn.key_conv.weight\", \"blocks.0.attn.key_conv.bias\", \"blocks.0.attn.value_conv.weight\", \"blocks.0.attn.value_conv.bias\", \"blocks.1.conv.weight\", \"blocks.1.bn.weight\", \"blocks.1.bn.bias\", \"blocks.1.bn.running_mean\", \"blocks.1.bn.running_var\", \"blocks.1.attn.gamma\", \"blocks.1.attn.query_conv.weight\", \"blocks.1.attn.query_conv.bias\", \"blocks.1.attn.key_conv.weight\", \"blocks.1.attn.key_conv.bias\", \"blocks.1.attn.value_conv.weight\", \"blocks.1.attn.value_conv.bias\", \"outconv.1.weight\", \"outconv.1.bias\", \"outconv.2.gamma\", \"outconv.2.query_conv.weight\", \"outconv.2.query_conv.bias\", \"outconv.2.key_conv.weight\", \"outconv.2.key_conv.bias\", \"outconv.2.value_conv.weight\", \"outconv.2.value_conv.bias\". \n\tUnexpected key(s) in state_dict: \"block1.upsample.1.weight\", \"block1.upsample.1.bias\", \"block1.bn.weight\", \"block1.bn.bias\", \"block1.bn.running_mean\", \"block1.bn.running_var\", \"block1.bn.num_batches_tracked\", \"self_attn0.gamma\", \"self_attn0.query_conv.weight\", \"self_attn0.query_conv.bias\", \"self_attn0.key_conv.weight\", \"self_attn0.key_conv.bias\", \"self_attn0.value_conv.weight\", \"self_attn0.value_conv.bias\", \"block2.upsample.1.weight\", \"block2.upsample.1.bias\", \"block2.bn.weight\", \"block2.bn.bias\", \"block2.bn.running_mean\", \"block2.bn.running_var\", \"block2.bn.num_batches_tracked\", \"self_attn.gamma\", \"self_attn.query_conv.weight\", \"self_attn.query_conv.bias\", \"self_attn.key_conv.weight\", \"self_attn.key_conv.bias\", \"self_attn.value_conv.weight\", \"self_attn.value_conv.bias\", \"preprocess.1.weight\", \"preprocess.1.bias\", \"preprocess.1.running_mean\", \"preprocess.1.running_var\", \"preprocess.1.num_batches_tracked\", \"outconv.0.weight\", \"outconv.0.bias\". \n\tsize mismatch for preprocess.0.weight: copying a param with shape torch.Size([32, 256, 3, 4]) from checkpoint, the shape in current model is torch.Size([768, 32]).",
     "output_type": "error",
     "traceback": [
      "\u001b[0;31m---------------------------------------------------------------------------\u001b[0m",
      "\u001b[0;31mRuntimeError\u001b[0m                              Traceback (most recent call last)",
      "\u001b[1;32m/root/mnt/pcg/GVGAI-GAN/optimize.ipynb Cell 2'\u001b[0m in \u001b[0;36m<cell line: 21>\u001b[0;34m()\u001b[0m\n\u001b[1;32m     <a href='vscode-notebook-cell://attached-container%2B7b22636f6e7461696e65724e616d65223a222f74657374222c2273657474696e6773223a7b22686f7374223a227373683a2f2f732d74616b617461403137322e32312e36342e313931227d7d/root/mnt/pcg/GVGAI-GAN/optimize.ipynb#ch0000000vscode-remote?line=17'>18</a>\u001b[0m model_path \u001b[39m=\u001b[39m os\u001b[39m.\u001b[39mpath\u001b[39m.\u001b[39mjoin(\n\u001b[1;32m     <a href='vscode-notebook-cell://attached-container%2B7b22636f6e7461696e65724e616d65223a222f74657374222c2273657474696e6773223a7b22686f7374223a227373683a2f2f732d74616b617461403137322e32312e36342e313931227d7d/root/mnt/pcg/GVGAI-GAN/optimize.ipynb#ch0000000vscode-remote?line=18'>19</a>\u001b[0m     \u001b[39m\"\u001b[39m\u001b[39m/root/mnt/pcg/GVGAI-GAN/gan/checkpoints/none-795\u001b[39m\u001b[39m\"\u001b[39m, \u001b[39m\"\u001b[39m\u001b[39mmodels.tar\u001b[39m\u001b[39m\"\u001b[39m)\n\u001b[1;32m     <a href='vscode-notebook-cell://attached-container%2B7b22636f6e7461696e65724e616d65223a222f74657374222c2273657474696e6773223a7b22686f7374223a227373683a2f2f732d74616b617461403137322e32312e36342e313931227d7d/root/mnt/pcg/GVGAI-GAN/optimize.ipynb#ch0000000vscode-remote?line=19'>20</a>\u001b[0m load_model \u001b[39m=\u001b[39m torch\u001b[39m.\u001b[39mload(model_path)\n\u001b[0;32m---> <a href='vscode-notebook-cell://attached-container%2B7b22636f6e7461696e65724e616d65223a222f74657374222c2273657474696e6773223a7b22686f7374223a227373683a2f2f732d74616b617461403137322e32312e36342e313931227d7d/root/mnt/pcg/GVGAI-GAN/optimize.ipynb#ch0000000vscode-remote?line=20'>21</a>\u001b[0m generator\u001b[39m.\u001b[39;49mload_state_dict(load_model[\u001b[39m\"\u001b[39;49m\u001b[39mgenerator\u001b[39;49m\u001b[39m\"\u001b[39;49m])\n\u001b[1;32m     <a href='vscode-notebook-cell://attached-container%2B7b22636f6e7461696e65724e616d65223a222f74657374222c2273657474696e6773223a7b22686f7374223a227373683a2f2f732d74616b617461403137322e32312e36342e313931227d7d/root/mnt/pcg/GVGAI-GAN/optimize.ipynb#ch0000000vscode-remote?line=22'>23</a>\u001b[0m x \u001b[39m=\u001b[39m torch\u001b[39m.\u001b[39mrandn(config\u001b[39m.\u001b[39mlatent_size)\u001b[39m.\u001b[39mto(device)\n\u001b[1;32m     <a href='vscode-notebook-cell://attached-container%2B7b22636f6e7461696e65724e616d65223a222f74657374222c2273657474696e6773223a7b22686f7374223a227373683a2f2f732d74616b617461403137322e32312e36342e313931227d7d/root/mnt/pcg/GVGAI-GAN/optimize.ipynb#ch0000000vscode-remote?line=24'>25</a>\u001b[0m \u001b[39m# es = cma.CMAEvolutionStrategy(config.latent_size*[0], 0.5)\u001b[39;00m\n\u001b[1;32m     <a href='vscode-notebook-cell://attached-container%2B7b22636f6e7461696e65724e616d65223a222f74657374222c2273657474696e6773223a7b22686f7374223a227373683a2f2f732d74616b617461403137322e32312e36342e313931227d7d/root/mnt/pcg/GVGAI-GAN/optimize.ipynb#ch0000000vscode-remote?line=25'>26</a>\u001b[0m \u001b[39m# es.optimize(fitness)\u001b[39;00m\n",
      "File \u001b[0;32m~/.pyenv/versions/3.8.0/lib/python3.8/site-packages/torch/nn/modules/module.py:1604\u001b[0m, in \u001b[0;36mModule.load_state_dict\u001b[0;34m(self, state_dict, strict)\u001b[0m\n\u001b[1;32m   1599\u001b[0m         error_msgs\u001b[39m.\u001b[39minsert(\n\u001b[1;32m   1600\u001b[0m             \u001b[39m0\u001b[39m, \u001b[39m'\u001b[39m\u001b[39mMissing key(s) in state_dict: \u001b[39m\u001b[39m{}\u001b[39;00m\u001b[39m. \u001b[39m\u001b[39m'\u001b[39m\u001b[39m.\u001b[39mformat(\n\u001b[1;32m   1601\u001b[0m                 \u001b[39m'\u001b[39m\u001b[39m, \u001b[39m\u001b[39m'\u001b[39m\u001b[39m.\u001b[39mjoin(\u001b[39m'\u001b[39m\u001b[39m\"\u001b[39m\u001b[39m{}\u001b[39;00m\u001b[39m\"\u001b[39m\u001b[39m'\u001b[39m\u001b[39m.\u001b[39mformat(k) \u001b[39mfor\u001b[39;00m k \u001b[39min\u001b[39;00m missing_keys)))\n\u001b[1;32m   1603\u001b[0m \u001b[39mif\u001b[39;00m \u001b[39mlen\u001b[39m(error_msgs) \u001b[39m>\u001b[39m \u001b[39m0\u001b[39m:\n\u001b[0;32m-> 1604\u001b[0m     \u001b[39mraise\u001b[39;00m \u001b[39mRuntimeError\u001b[39;00m(\u001b[39m'\u001b[39m\u001b[39mError(s) in loading state_dict for \u001b[39m\u001b[39m{}\u001b[39;00m\u001b[39m:\u001b[39m\u001b[39m\\n\u001b[39;00m\u001b[39m\\t\u001b[39;00m\u001b[39m{}\u001b[39;00m\u001b[39m'\u001b[39m\u001b[39m.\u001b[39mformat(\n\u001b[1;32m   1605\u001b[0m                        \u001b[39mself\u001b[39m\u001b[39m.\u001b[39m\u001b[39m__class__\u001b[39m\u001b[39m.\u001b[39m\u001b[39m__name__\u001b[39m, \u001b[39m\"\u001b[39m\u001b[39m\\n\u001b[39;00m\u001b[39m\\t\u001b[39;00m\u001b[39m\"\u001b[39m\u001b[39m.\u001b[39mjoin(error_msgs)))\n\u001b[1;32m   1606\u001b[0m \u001b[39mreturn\u001b[39;00m _IncompatibleKeys(missing_keys, unexpected_keys)\n",
      "\u001b[0;31mRuntimeError\u001b[0m: Error(s) in loading state_dict for Generator:\n\tMissing key(s) in state_dict: \"blocks.0.conv.weight\", \"blocks.0.bn.weight\", \"blocks.0.bn.bias\", \"blocks.0.bn.running_mean\", \"blocks.0.bn.running_var\", \"blocks.0.attn.gamma\", \"blocks.0.attn.query_conv.weight\", \"blocks.0.attn.query_conv.bias\", \"blocks.0.attn.key_conv.weight\", \"blocks.0.attn.key_conv.bias\", \"blocks.0.attn.value_conv.weight\", \"blocks.0.attn.value_conv.bias\", \"blocks.1.conv.weight\", \"blocks.1.bn.weight\", \"blocks.1.bn.bias\", \"blocks.1.bn.running_mean\", \"blocks.1.bn.running_var\", \"blocks.1.attn.gamma\", \"blocks.1.attn.query_conv.weight\", \"blocks.1.attn.query_conv.bias\", \"blocks.1.attn.key_conv.weight\", \"blocks.1.attn.key_conv.bias\", \"blocks.1.attn.value_conv.weight\", \"blocks.1.attn.value_conv.bias\", \"outconv.1.weight\", \"outconv.1.bias\", \"outconv.2.gamma\", \"outconv.2.query_conv.weight\", \"outconv.2.query_conv.bias\", \"outconv.2.key_conv.weight\", \"outconv.2.key_conv.bias\", \"outconv.2.value_conv.weight\", \"outconv.2.value_conv.bias\". \n\tUnexpected key(s) in state_dict: \"block1.upsample.1.weight\", \"block1.upsample.1.bias\", \"block1.bn.weight\", \"block1.bn.bias\", \"block1.bn.running_mean\", \"block1.bn.running_var\", \"block1.bn.num_batches_tracked\", \"self_attn0.gamma\", \"self_attn0.query_conv.weight\", \"self_attn0.query_conv.bias\", \"self_attn0.key_conv.weight\", \"self_attn0.key_conv.bias\", \"self_attn0.value_conv.weight\", \"self_attn0.value_conv.bias\", \"block2.upsample.1.weight\", \"block2.upsample.1.bias\", \"block2.bn.weight\", \"block2.bn.bias\", \"block2.bn.running_mean\", \"block2.bn.running_var\", \"block2.bn.num_batches_tracked\", \"self_attn.gamma\", \"self_attn.query_conv.weight\", \"self_attn.query_conv.bias\", \"self_attn.key_conv.weight\", \"self_attn.key_conv.bias\", \"self_attn.value_conv.weight\", \"self_attn.value_conv.bias\", \"preprocess.1.weight\", \"preprocess.1.bias\", \"preprocess.1.running_mean\", \"preprocess.1.running_var\", \"preprocess.1.num_batches_tracked\", \"outconv.0.weight\", \"outconv.0.bias\". \n\tsize mismatch for preprocess.0.weight: copying a param with shape torch.Size([32, 256, 3, 4]) from checkpoint, the shape in current model is torch.Size([768, 32])."
     ]
    }
   ],
   "source": [
    "config = SmallModelConfig()\n",
    "config.set_env()\n",
    "\n",
    "if config.cuda:\n",
    "    device = torch.device(\n",
    "        \"cuda\" if torch.cuda.is_available else \"cpu\")\n",
    "    print(\"device : cuda\")\n",
    "else:\n",
    "    device = torch.device(\"cpu\")\n",
    "    print(\"device : cpu\")\n",
    "generator = Generator(\n",
    "    out_dim=config.input_shape[0],\n",
    "    shapes=config.model_shapes,\n",
    "    z_shape=(config.latent_size,),\n",
    "    filters=config.generator_filters\n",
    ").to(device)\n",
    "\n",
    "model_path = os.path.join(\n",
    "    \"/root/mnt/pcg/GVGAI-GAN/gan/checkpoints/none-795\", \"models.tar\")\n",
    "load_model = torch.load(model_path)\n",
    "generator.load_state_dict(load_model[\"generator\"])\n",
    "\n",
    "x = torch.randn(config.latent_size).to(device)\n",
    "\n",
    "# es = cma.CMAEvolutionStrategy(config.latent_size*[0], 0.5)\n",
    "# es.optimize(fitness)\n",
    "\n",
    "\n",
    "def fitness(x: torch.Tensor):\n",
    "    x = np.array(x)\n",
    "    latent = torch.FloatTensor(x).view(1, -1, 1, 1)\n",
    "    level = generator(x)\n",
    "    level_str = tensor_to_level_str(level)\n",
    "    playable = check_playable(level_str)\n",
    "    eval = eval(level_str)\n",
    "    return playable*300 + eval\n",
    "\n",
    "\n",
    "def eval(level_str):\n",
    "    wall = 0\n",
    "    enemy = 0\n",
    "    for s, i in enumerate(level_str):\n",
    "        for c, j in enumerate(level_str):\n",
    "            if c == 'w':\n",
    "                wall += 1\n",
    "            if c in ['1', '2', '3']:\n",
    "                enemy += 1\n",
    "    return wall + enemy\n"
   ]
  },
  {
   "cell_type": "code",
   "execution_count": null,
   "metadata": {},
   "outputs": [],
   "source": []
  }
 ],
 "metadata": {
  "kernelspec": {
   "display_name": "Python 3.8.0 64-bit ('3.8.0')",
   "language": "python",
   "name": "python3"
  },
  "language_info": {
   "codemirror_mode": {
    "name": "ipython",
    "version": 3
   },
   "file_extension": ".py",
   "mimetype": "text/x-python",
   "name": "python",
   "nbconvert_exporter": "python",
   "pygments_lexer": "ipython3",
   "version": "3.8.0"
  },
  "orig_nbformat": 4,
  "vscode": {
   "interpreter": {
    "hash": "c6f04e54c30bdab06014272fe7a39801e1ba23455c10166a981ed4409abbe2cf"
   }
  }
 },
 "nbformat": 4,
 "nbformat_minor": 2
}
