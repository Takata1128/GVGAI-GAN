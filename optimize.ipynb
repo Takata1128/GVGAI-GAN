{
 "cells": [
  {
   "cell_type": "code",
   "execution_count": 29,
   "metadata": {},
   "outputs": [],
   "source": [
    "import torch\n",
    "import numpy as np\n",
    "import os\n",
    "import cma\n",
    "from gan.config import SmallModelConfig\n",
    "from gan.small_models import Generator\n",
    "from gan.utils import tensor_to_level_str,check_playable\n",
    "from gan.level_visualizer import LevelVisualizer\n",
    "from gan.env import Env\n",
    "from PIL import Image"
   ]
  },
  {
   "cell_type": "code",
   "execution_count": 30,
   "metadata": {},
   "outputs": [
    {
     "name": "stdout",
     "output_type": "stream",
     "text": [
      "device : cpu\n"
     ]
    }
   ],
   "source": [
    "config = SmallModelConfig()\n",
    "config.set_env()\n",
    "config.cuda = False\n",
    "if config.cuda:\n",
    "    device = torch.device(\n",
    "        \"cuda\" if torch.cuda.is_available else \"cpu\")\n",
    "    print(\"device : cuda\")\n",
    "else:\n",
    "    device = torch.device(\"cpu\")\n",
    "    print(\"device : cpu\")\n",
    "generator = Generator(\n",
    "    out_dim=config.input_shape[0],\n",
    "    shapes=config.model_shapes,\n",
    "    z_shape=(config.latent_size,),\n",
    "    filters=config.generator_filters\n",
    ").to(device)\n",
    "env = Env(config.env_name,config.env_version)\n",
    "level_visualizer = LevelVisualizer(env=env)\n",
    "\n",
    "model_path = os.path.join(\n",
    "    \"/root/mnt/pcg/GVGAI-GAN/gan/checkpoints/none-804\", \"models.tar\")\n",
    "load_model = torch.load(model_path)\n",
    "generator.load_state_dict(load_model[\"generator\"])\n",
    "x = torch.randn(config.latent_size).to(device)\n"
   ]
  },
  {
   "cell_type": "code",
   "execution_count": 31,
   "metadata": {},
   "outputs": [
    {
     "name": "stdout",
     "output_type": "stream",
     "text": [
      "(7_w,14)-aCMA-ES (mu_w=4.3,w_1=36%) in dimension 32 (seed=341146, Tue Aug 23 04:34:31 2022)\n",
      "Iterat #Fevals   function value  axis ratio  sigma  min&max std  t[m:s]\n",
      "    1     14 -2.190000000000000e+02 1.0e+00 1.89e-01  2e-01  2e-01 0:02.0\n",
      "    2     28 -2.190000000000000e+02 1.1e+00 1.83e-01  2e-01  2e-01 0:04.0\n",
      "    3     42 -2.190000000000000e+02 1.1e+00 1.76e-01  2e-01  2e-01 0:06.0\n",
      "    5     70 -2.190000000000000e+02 1.1e+00 1.67e-01  2e-01  2e-01 0:09.8\n",
      "    7     98 -2.190000000000000e+02 1.2e+00 1.55e-01  2e-01  2e-01 0:13.6\n",
      "INIT:  [-0.88928032  0.96914476 -0.34834355 -0.86618769 -0.42930919  0.32557756\n",
      " -0.24475083  1.03999925  0.34102684  0.25058523 -0.66816002 -1.72397912\n",
      "  0.76984143  0.54592729  0.11986626  2.53826118 -1.12517715  0.11838826\n",
      " -1.53594744 -1.23557377 -0.7874409  -0.11955765 -1.85419357  0.82836473\n",
      "  0.48533484 -0.67491305  0.65896004  0.93355435  1.18376148  0.74227798\n",
      "  0.02775931 -0.39037022]\n",
      "BEST:  [-1.04988618  1.1814367  -0.54762955 -0.7599787  -0.36429638  0.36929029\n",
      "  0.11815748  0.92065954  0.20980816 -0.03106369 -0.57298363 -1.53783958\n",
      "  0.49426616  0.50555121  0.13077622  2.48892748 -1.29375353  0.22025081\n",
      " -1.66330359 -0.88537967 -1.10148719 -0.00343571 -1.92518862  1.15809134\n",
      "  0.27945931 -0.66139352  0.4957707   0.68880237  1.47597832  0.76246363\n",
      "  0.57137241 -0.59085639]\n",
      "Fitness:  -219\n"
     ]
    },
    {
     "data": {
      "image/png": "[encoded data removed]",
      "text/plain": [
       "<PIL.Image.Image image mode=RGB size=260x196>"
      ]
     },
     "metadata": {},
     "output_type": "display_data"
    },
    {
     "data": {
      "image/png": "[encoded data removed]",
      "text/plain": [
       "<PIL.Image.Image image mode=RGB size=260x196>"
      ]
     },
     "metadata": {},
     "output_type": "display_data"
    }
   ],
   "source": [
    "def eval(level_str):\n",
    "    wall = 0\n",
    "    enemy = 0\n",
    "    for i, s in enumerate(level_str):\n",
    "        for j, c in enumerate(s):\n",
    "            if c == 'w':\n",
    "                wall += 1\n",
    "            if c in ['1', '2', '3']:\n",
    "                enemy += 1\n",
    "    return wall + enemy*10\n",
    "\n",
    "\n",
    "def fitness(x: torch.Tensor):\n",
    "    x = np.array(x)\n",
    "    latent = torch.FloatTensor(x).view(1, -1, 1, 1)\n",
    "    level = generator(latent)\n",
    "    level_str = tensor_to_level_str('zelda', level)\n",
    "    playable = check_playable(level_str[0])\n",
    "    ev = eval(level_str)\n",
    "    return -(playable*100 + ev)\n",
    "\n",
    "def show(x):\n",
    "    p_level = torch.nn.Softmax2d()(generator(x))\n",
    "    level_strs = tensor_to_level_str(\n",
    "        config.env_name, p_level)\n",
    "    p_level_img = np.array(level_visualizer.draw_level(level_strs[0]))\n",
    "    image = Image.fromarray(p_level_img)\n",
    "    image.show()\n",
    "\n",
    "es = cma.CMAEvolutionStrategy(x.tolist(), 0.2)\n",
    "es.optimize(fitness)\n",
    "best = np.array(es.best.get()[0])\n",
    "print(\"INIT: \", np.array(x.tolist()))\n",
    "print(\"BEST: \", best)\n",
    "print(\"Fitness: \", fitness(best))\n",
    "\n",
    "show(x)\n",
    "show(torch.FloatTensor(best))\n"
   ]
  },
  {
   "cell_type": "code",
   "execution_count": null,
   "metadata": {},
   "outputs": [],
   "source": []
  }
 ],
 "metadata": {
  "interpreter": {
   "hash": "c6f04e54c30bdab06014272fe7a39801e1ba23455c10166a981ed4409abbe2cf"
  },
  "kernelspec": {
   "display_name": "Python 3.8.0 64-bit ('3.8.0')",
   "language": "python",
   "name": "python3"
  },
  "language_info": {
   "codemirror_mode": {
    "name": "ipython",
    "version": 3
   },
   "file_extension": ".py",
   "mimetype": "text/x-python",
   "name": "python",
   "nbconvert_exporter": "python",
   "pygments_lexer": "ipython3",
   "version": "3.8.0"
  },
  "orig_nbformat": 4,
  "vscode": {
   "interpreter": {
    "hash": "c6f04e54c30bdab06014272fe7a39801e1ba23455c10166a981ed4409abbe2cf"
   }
  }
 },
 "nbformat": 4,
 "nbformat_minor": 2
}
