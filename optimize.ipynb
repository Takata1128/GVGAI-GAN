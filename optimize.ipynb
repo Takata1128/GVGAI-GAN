{
 "cells": [
  {
   "cell_type": "code",
   "execution_count": 19,
   "metadata": {},
   "outputs": [],
   "source": [
    "import torch\n",
    "import numpy as np\n",
    "import os\n",
    "import cma\n",
    "from eval import play\n",
    "from gan.config import SmallModelConfig\n",
    "from gan.small_models import Generator\n",
    "from gan.utils import tensor_to_level_str,check_playable\n",
    "from gan.level_visualizer import LevelVisualizer\n",
    "from play_rl.env import Env\n",
    "from play_rl.wrappers import GridGame\n",
    "from play_rl.policy import Policy\n",
    "from PIL import Image"
   ]
  },
  {
   "cell_type": "code",
   "execution_count": 20,
   "metadata": {},
   "outputs": [
    {
     "name": "stdout",
     "output_type": "stream",
     "text": [
      "device : cpu\n"
     ]
    }
   ],
   "source": [
    "config = SmallModelConfig()\n",
    "config.set_env()\n",
    "config.cuda = False\n",
    "if config.cuda:\n",
    "    device = torch.device(\n",
    "        \"cuda\" if torch.cuda.is_available else \"cpu\")\n",
    "    print(\"device : cuda\")\n",
    "else:\n",
    "    device = torch.device(\"cpu\")\n",
    "    print(\"device : cpu\")\n",
    "generator = Generator(\n",
    "    out_dim=config.input_shape[0],\n",
    "    shapes=config.model_shapes,\n",
    "    z_shape=(config.latent_size,),\n",
    "    filters=config.generator_filters,\n",
    ").to(device)\n",
    "env_def = Env(config.env_name,config.env_version)\n",
    "level_visualizer = LevelVisualizer(env=env_def)\n",
    "\n",
    "model_path = os.path.join(\n",
    "    \"/root/mnt/GVGAI-GAN/gan/checkpoints/none-866\", \"models_1160.tar\")\n",
    "load_model = torch.load(model_path)\n",
    "generator.load_state_dict(load_model[\"generator\"])\n",
    "x = torch.randn(config.latent_size).to(device)\n"
   ]
  },
  {
   "cell_type": "code",
   "execution_count": 22,
   "metadata": {},
   "outputs": [
    {
     "name": "stdout",
     "output_type": "stream",
     "text": [
      "Connecting to host 127.0.0.1 at port 40769 ...\n",
      "Client connected to server [OK]\n",
      "(7_w,14)-aCMA-ES (mu_w=4.3,w_1=36%) in dimension 32 (seed=956889, Tue Aug 30 08:20:56 2022)\n",
      "Iterat #Fevals   function value  axis ratio  sigma  min&max std  t[m:s]\n",
      "    1     14 1.000000000000000e+02 1.0e+00 4.69e-01  5e-01  5e-01 0:00.1\n",
      "    2     28 -3.580000000000000e+02 1.1e+00 4.55e-01  4e-01  5e-01 0:09.2\n",
      "    3     42 -1.000000000000000e+02 1.1e+00 4.47e-01  4e-01  5e-01 0:13.7\n",
      "    6     84 -3.110000000000000e+02 1.2e+00 4.60e-01  5e-01  5e-01 0:20.6\n",
      "    7     98 -2.340000000000000e+02 1.2e+00 4.74e-01  5e-01  5e-01 0:25.1\n",
      "    8    112 -2.330000000000000e+02 1.2e+00 4.74e-01  5e-01  5e-01 0:32.7\n",
      "   10    140 -2.370000000000000e+02 1.3e+00 4.90e-01  5e-01  5e-01 0:48.1\n",
      "INIT:  [ 0.01039747  1.58098638 -1.20620728  1.04800534  0.02469879 -1.33030629\n",
      "  0.70263982  1.71118546  1.82350349 -1.4710449  -1.04521036 -0.939987\n",
      " -2.47386646  1.09412241  0.55837882  2.58600783 -1.6364876  -0.35809794\n",
      "  0.17221154  0.03799465  2.39170122  0.87518698  1.15953791  0.22822562\n",
      " -1.0112983  -0.12250187 -1.12189078  1.23051679  1.18883634 -1.08306813\n",
      "  0.23911788 -0.87232739]\n",
      "BEST:  [ 1.16887627  2.17904493 -1.67742544  0.34699033  0.31836117 -1.39902488\n",
      "  1.28361206  1.3383565   2.1801198  -1.60327936 -1.86530374  0.16288116\n",
      " -1.63388499  0.63265958  1.56334032  2.03326427 -2.71902569 -0.43103137\n",
      "  0.09693863  0.23396356  2.23105587  1.31967185  1.28023363 -0.8957203\n",
      " -1.15052327  0.26461472 -0.94787307  1.44907298  1.22821559 -0.77570999\n",
      "  0.25602598 -0.48899424]\n",
      "Fitness:  -39.0\n"
     ]
    },
    {
     "data": {
      "image/png": "[encoded data removed]",
      "text/plain": [
       "<PIL.Image.Image image mode=RGB size=260x196 at 0x7FD549070C10>"
      ]
     },
     "metadata": {},
     "output_type": "display_data"
    },
    {
     "data": {
      "image/png": "[encoded data removed]",
      "text/plain": [
       "<PIL.Image.Image image mode=RGB size=260x196 at 0x7FD5486146D0>"
      ]
     },
     "metadata": {},
     "output_type": "display_data"
    }
   ],
   "source": [
    "def eval(level_str):\n",
    "    wall = 0\n",
    "    enemy = 0\n",
    "    for i, s in enumerate(level_str):\n",
    "        for j, c in enumerate(s):\n",
    "            if c == 'w':\n",
    "                wall += 1\n",
    "            if c in ['1', '2', '3']:\n",
    "                enemy += 1\n",
    "    return wall + enemy*10\n",
    "\n",
    "\n",
    "env = GridGame(config.env_name, 200, env_def.state_shape)\n",
    "actor = Policy(env.observation_space.shape, env.action_space,base_kwargs={\"recurrent\": True})\n",
    "actor.load_state_dict(torch.load('/root/mnt/GVGAI-GAN/play_rl/checkpoints/ppo/zelda_20220825102126.pt'))\n",
    "\n",
    "def fitness(x: torch.Tensor):\n",
    "    x = np.array(x)\n",
    "    latent = torch.FloatTensor(x).view(1, -1, 1, 1)\n",
    "    level = generator(latent)\n",
    "    level_str = tensor_to_level_str('zelda', level)\n",
    "    playable = check_playable(level_str[0])\n",
    "    if not playable:\n",
    "        return 100\n",
    "    reward,step,_ = play(level_str[0],env=env,actor=actor)\n",
    "    return -(reward*100+step)\n",
    "    # ev = eval(level_str)\n",
    "    # return -ev\n",
    "\n",
    "def show(x):\n",
    "    p_level = torch.nn.Softmax2d()(generator(x))\n",
    "    level_strs = tensor_to_level_str(\n",
    "        config.env_name, p_level)\n",
    "    p_level_img = np.array(level_visualizer.draw_level(level_strs[0]))\n",
    "    image = Image.fromarray(p_level_img)\n",
    "    image.show()\n",
    "\n",
    "es = cma.CMAEvolutionStrategy(x.tolist(), 0.5)\n",
    "es.optimize(fitness,iterations=10,min_iterations=10)\n",
    "best = np.array(es.best.get()[0])\n",
    "print(\"INIT: \", np.array(x.tolist()))\n",
    "print(\"BEST: \", best)\n",
    "print(\"Fitness: \", fitness(best))\n",
    "\n",
    "show(x)\n",
    "show(torch.FloatTensor(best))\n"
   ]
  },
  {
   "cell_type": "code",
   "execution_count": null,
   "metadata": {},
   "outputs": [],
   "source": []
  }
 ],
 "metadata": {
  "interpreter": {
   "hash": "c6f04e54c30bdab06014272fe7a39801e1ba23455c10166a981ed4409abbe2cf"
  },
  "kernelspec": {
   "display_name": "Python 3.8.0 64-bit ('3.8.0')",
   "language": "python",
   "name": "python3"
  },
  "language_info": {
   "codemirror_mode": {
    "name": "ipython",
    "version": 3
   },
   "file_extension": ".py",
   "mimetype": "text/x-python",
   "name": "python",
   "nbconvert_exporter": "python",
   "pygments_lexer": "ipython3",
   "version": "3.8.0"
  },
  "orig_nbformat": 4,
  "vscode": {
   "interpreter": {
    "hash": "c6f04e54c30bdab06014272fe7a39801e1ba23455c10166a981ed4409abbe2cf"
   }
  }
 },
 "nbformat": 4,
 "nbformat_minor": 2
}
