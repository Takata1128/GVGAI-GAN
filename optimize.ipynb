{
 "cells": [
  {
   "cell_type": "code",
   "execution_count": 2,
   "metadata": {},
   "outputs": [
    {
     "name": "stderr",
     "output_type": "stream",
     "text": [
      "/root/.pyenv/versions/3.8.0/lib/python3.8/site-packages/tqdm/auto.py:22: TqdmWarning: IProgress not found. Please update jupyter and ipywidgets. See https://ipywidgets.readthedocs.io/en/stable/user_install.html\n",
      "  from .autonotebook import tqdm as notebook_tqdm\n"
     ]
    }
   ],
   "source": [
    "import torch\n",
    "import numpy as np\n",
    "import os\n",
    "from gan.config import SmallModelConfig\n",
    "from gan.models import Generator\n",
    "from gan.utils import tensor_to_level_str,check_playable"
   ]
  },
  {
   "cell_type": "code",
   "execution_count": 3,
   "metadata": {},
   "outputs": [
    {
     "name": "stdout",
     "output_type": "stream",
     "text": [
      "device : cuda\n"
     ]
    },
    {
     "ename": "FileNotFoundError",
     "evalue": "[Errno 2] No such file or directory: '/root/mnt/pcg/GVGAI-GAN/gan/checkpoints/none-795/models.tar'",
     "output_type": "error",
     "traceback": [
      "\u001b[0;31m---------------------------------------------------------------------------\u001b[0m",
      "\u001b[0;31mFileNotFoundError\u001b[0m                         Traceback (most recent call last)",
      "\u001b[1;32m/root/mnt/GVGAI-GAN/optimize.ipynb Cell 2'\u001b[0m in \u001b[0;36m<cell line: 20>\u001b[0;34m()\u001b[0m\n\u001b[1;32m     <a href='vscode-notebook-cell://attached-container%2B7b22636f6e7461696e65724e616d65223a222f706367222c2273657474696e6773223a7b22686f7374223a227373683a2f2f732d74616b6174614031302e372e312e3732227d7d/root/mnt/GVGAI-GAN/optimize.ipynb#ch0000001vscode-remote?line=10'>11</a>\u001b[0m generator \u001b[39m=\u001b[39m Generator(\n\u001b[1;32m     <a href='vscode-notebook-cell://attached-container%2B7b22636f6e7461696e65724e616d65223a222f706367222c2273657474696e6773223a7b22686f7374223a227373683a2f2f732d74616b6174614031302e372e312e3732227d7d/root/mnt/GVGAI-GAN/optimize.ipynb#ch0000001vscode-remote?line=11'>12</a>\u001b[0m     out_dim\u001b[39m=\u001b[39mconfig\u001b[39m.\u001b[39minput_shape[\u001b[39m0\u001b[39m],\n\u001b[1;32m     <a href='vscode-notebook-cell://attached-container%2B7b22636f6e7461696e65724e616d65223a222f706367222c2273657474696e6773223a7b22686f7374223a227373683a2f2f732d74616b6174614031302e372e312e3732227d7d/root/mnt/GVGAI-GAN/optimize.ipynb#ch0000001vscode-remote?line=12'>13</a>\u001b[0m     shapes\u001b[39m=\u001b[39mconfig\u001b[39m.\u001b[39mmodel_shapes,\n\u001b[1;32m     <a href='vscode-notebook-cell://attached-container%2B7b22636f6e7461696e65724e616d65223a222f706367222c2273657474696e6773223a7b22686f7374223a227373683a2f2f732d74616b6174614031302e372e312e3732227d7d/root/mnt/GVGAI-GAN/optimize.ipynb#ch0000001vscode-remote?line=13'>14</a>\u001b[0m     z_shape\u001b[39m=\u001b[39m(config\u001b[39m.\u001b[39mlatent_size,),\n\u001b[1;32m     <a href='vscode-notebook-cell://attached-container%2B7b22636f6e7461696e65724e616d65223a222f706367222c2273657474696e6773223a7b22686f7374223a227373683a2f2f732d74616b6174614031302e372e312e3732227d7d/root/mnt/GVGAI-GAN/optimize.ipynb#ch0000001vscode-remote?line=14'>15</a>\u001b[0m     filters\u001b[39m=\u001b[39mconfig\u001b[39m.\u001b[39mgenerator_filters\n\u001b[1;32m     <a href='vscode-notebook-cell://attached-container%2B7b22636f6e7461696e65724e616d65223a222f706367222c2273657474696e6773223a7b22686f7374223a227373683a2f2f732d74616b6174614031302e372e312e3732227d7d/root/mnt/GVGAI-GAN/optimize.ipynb#ch0000001vscode-remote?line=15'>16</a>\u001b[0m )\u001b[39m.\u001b[39mto(device)\n\u001b[1;32m     <a href='vscode-notebook-cell://attached-container%2B7b22636f6e7461696e65724e616d65223a222f706367222c2273657474696e6773223a7b22686f7374223a227373683a2f2f732d74616b6174614031302e372e312e3732227d7d/root/mnt/GVGAI-GAN/optimize.ipynb#ch0000001vscode-remote?line=17'>18</a>\u001b[0m model_path \u001b[39m=\u001b[39m os\u001b[39m.\u001b[39mpath\u001b[39m.\u001b[39mjoin(\n\u001b[1;32m     <a href='vscode-notebook-cell://attached-container%2B7b22636f6e7461696e65724e616d65223a222f706367222c2273657474696e6773223a7b22686f7374223a227373683a2f2f732d74616b6174614031302e372e312e3732227d7d/root/mnt/GVGAI-GAN/optimize.ipynb#ch0000001vscode-remote?line=18'>19</a>\u001b[0m     \u001b[39m\"\u001b[39m\u001b[39m/root/mnt/pcg/GVGAI-GAN/gan/checkpoints/none-795\u001b[39m\u001b[39m\"\u001b[39m, \u001b[39m\"\u001b[39m\u001b[39mmodels.tar\u001b[39m\u001b[39m\"\u001b[39m)\n\u001b[0;32m---> <a href='vscode-notebook-cell://attached-container%2B7b22636f6e7461696e65724e616d65223a222f706367222c2273657474696e6773223a7b22686f7374223a227373683a2f2f732d74616b6174614031302e372e312e3732227d7d/root/mnt/GVGAI-GAN/optimize.ipynb#ch0000001vscode-remote?line=19'>20</a>\u001b[0m load_model \u001b[39m=\u001b[39m torch\u001b[39m.\u001b[39;49mload(model_path)\n\u001b[1;32m     <a href='vscode-notebook-cell://attached-container%2B7b22636f6e7461696e65724e616d65223a222f706367222c2273657474696e6773223a7b22686f7374223a227373683a2f2f732d74616b6174614031302e372e312e3732227d7d/root/mnt/GVGAI-GAN/optimize.ipynb#ch0000001vscode-remote?line=20'>21</a>\u001b[0m generator\u001b[39m.\u001b[39mload_state_dict(load_model[\u001b[39m\"\u001b[39m\u001b[39mgenerator\u001b[39m\u001b[39m\"\u001b[39m])\n\u001b[1;32m     <a href='vscode-notebook-cell://attached-container%2B7b22636f6e7461696e65724e616d65223a222f706367222c2273657474696e6773223a7b22686f7374223a227373683a2f2f732d74616b6174614031302e372e312e3732227d7d/root/mnt/GVGAI-GAN/optimize.ipynb#ch0000001vscode-remote?line=22'>23</a>\u001b[0m x \u001b[39m=\u001b[39m torch\u001b[39m.\u001b[39mrandn(config\u001b[39m.\u001b[39mlatent_size)\u001b[39m.\u001b[39mto(device)\n",
      "File \u001b[0;32m~/.pyenv/versions/3.8.0/lib/python3.8/site-packages/torch/serialization.py:594\u001b[0m, in \u001b[0;36mload\u001b[0;34m(f, map_location, pickle_module, **pickle_load_args)\u001b[0m\n\u001b[1;32m    <a href='file:///root/.pyenv/versions/3.8.0/lib/python3.8/site-packages/torch/serialization.py?line=590'>591</a>\u001b[0m \u001b[39mif\u001b[39;00m \u001b[39m'\u001b[39m\u001b[39mencoding\u001b[39m\u001b[39m'\u001b[39m \u001b[39mnot\u001b[39;00m \u001b[39min\u001b[39;00m pickle_load_args\u001b[39m.\u001b[39mkeys():\n\u001b[1;32m    <a href='file:///root/.pyenv/versions/3.8.0/lib/python3.8/site-packages/torch/serialization.py?line=591'>592</a>\u001b[0m     pickle_load_args[\u001b[39m'\u001b[39m\u001b[39mencoding\u001b[39m\u001b[39m'\u001b[39m] \u001b[39m=\u001b[39m \u001b[39m'\u001b[39m\u001b[39mutf-8\u001b[39m\u001b[39m'\u001b[39m\n\u001b[0;32m--> <a href='file:///root/.pyenv/versions/3.8.0/lib/python3.8/site-packages/torch/serialization.py?line=593'>594</a>\u001b[0m \u001b[39mwith\u001b[39;00m _open_file_like(f, \u001b[39m'\u001b[39;49m\u001b[39mrb\u001b[39;49m\u001b[39m'\u001b[39;49m) \u001b[39mas\u001b[39;00m opened_file:\n\u001b[1;32m    <a href='file:///root/.pyenv/versions/3.8.0/lib/python3.8/site-packages/torch/serialization.py?line=594'>595</a>\u001b[0m     \u001b[39mif\u001b[39;00m _is_zipfile(opened_file):\n\u001b[1;32m    <a href='file:///root/.pyenv/versions/3.8.0/lib/python3.8/site-packages/torch/serialization.py?line=595'>596</a>\u001b[0m         \u001b[39m# The zipfile reader is going to advance the current file position.\u001b[39;00m\n\u001b[1;32m    <a href='file:///root/.pyenv/versions/3.8.0/lib/python3.8/site-packages/torch/serialization.py?line=596'>597</a>\u001b[0m         \u001b[39m# If we want to actually tail call to torch.jit.load, we need to\u001b[39;00m\n\u001b[1;32m    <a href='file:///root/.pyenv/versions/3.8.0/lib/python3.8/site-packages/torch/serialization.py?line=597'>598</a>\u001b[0m         \u001b[39m# reset back to the original position.\u001b[39;00m\n\u001b[1;32m    <a href='file:///root/.pyenv/versions/3.8.0/lib/python3.8/site-packages/torch/serialization.py?line=598'>599</a>\u001b[0m         orig_position \u001b[39m=\u001b[39m opened_file\u001b[39m.\u001b[39mtell()\n",
      "File \u001b[0;32m~/.pyenv/versions/3.8.0/lib/python3.8/site-packages/torch/serialization.py:230\u001b[0m, in \u001b[0;36m_open_file_like\u001b[0;34m(name_or_buffer, mode)\u001b[0m\n\u001b[1;32m    <a href='file:///root/.pyenv/versions/3.8.0/lib/python3.8/site-packages/torch/serialization.py?line=227'>228</a>\u001b[0m \u001b[39mdef\u001b[39;00m \u001b[39m_open_file_like\u001b[39m(name_or_buffer, mode):\n\u001b[1;32m    <a href='file:///root/.pyenv/versions/3.8.0/lib/python3.8/site-packages/torch/serialization.py?line=228'>229</a>\u001b[0m     \u001b[39mif\u001b[39;00m _is_path(name_or_buffer):\n\u001b[0;32m--> <a href='file:///root/.pyenv/versions/3.8.0/lib/python3.8/site-packages/torch/serialization.py?line=229'>230</a>\u001b[0m         \u001b[39mreturn\u001b[39;00m _open_file(name_or_buffer, mode)\n\u001b[1;32m    <a href='file:///root/.pyenv/versions/3.8.0/lib/python3.8/site-packages/torch/serialization.py?line=230'>231</a>\u001b[0m     \u001b[39melse\u001b[39;00m:\n\u001b[1;32m    <a href='file:///root/.pyenv/versions/3.8.0/lib/python3.8/site-packages/torch/serialization.py?line=231'>232</a>\u001b[0m         \u001b[39mif\u001b[39;00m \u001b[39m'\u001b[39m\u001b[39mw\u001b[39m\u001b[39m'\u001b[39m \u001b[39min\u001b[39;00m mode:\n",
      "File \u001b[0;32m~/.pyenv/versions/3.8.0/lib/python3.8/site-packages/torch/serialization.py:211\u001b[0m, in \u001b[0;36m_open_file.__init__\u001b[0;34m(self, name, mode)\u001b[0m\n\u001b[1;32m    <a href='file:///root/.pyenv/versions/3.8.0/lib/python3.8/site-packages/torch/serialization.py?line=209'>210</a>\u001b[0m \u001b[39mdef\u001b[39;00m \u001b[39m__init__\u001b[39m(\u001b[39mself\u001b[39m, name, mode):\n\u001b[0;32m--> <a href='file:///root/.pyenv/versions/3.8.0/lib/python3.8/site-packages/torch/serialization.py?line=210'>211</a>\u001b[0m     \u001b[39msuper\u001b[39m(_open_file, \u001b[39mself\u001b[39m)\u001b[39m.\u001b[39m\u001b[39m__init__\u001b[39m(\u001b[39mopen\u001b[39;49m(name, mode))\n",
      "\u001b[0;31mFileNotFoundError\u001b[0m: [Errno 2] No such file or directory: '/root/mnt/pcg/GVGAI-GAN/gan/checkpoints/none-795/models.tar'"
     ]
    }
   ],
   "source": [
    "config = SmallModelConfig()\n",
    "config.set_env()\n",
    "\n",
    "if config.cuda:\n",
    "    device = torch.device(\n",
    "        \"cuda\" if torch.cuda.is_available else \"cpu\")\n",
    "    print(\"device : cuda\")\n",
    "else:\n",
    "    device = torch.device(\"cpu\")\n",
    "    print(\"device : cpu\")\n",
    "generator = Generator(\n",
    "    out_dim=config.input_shape[0],\n",
    "    shapes=config.model_shapes,\n",
    "    z_shape=(config.latent_size,),\n",
    "    filters=config.generator_filters\n",
    ").to(device)\n",
    "\n",
    "model_path = os.path.join(\n",
    "    \"/root/mnt/pcg/GVGAI-GAN/gan/checkpoints/none-795\", \"models.tar\")\n",
    "load_model = torch.load(model_path)\n",
    "generator.load_state_dict(load_model[\"generator\"])\n",
    "\n",
    "x = torch.randn(config.latent_size).to(device)\n",
    "\n",
    "# es = cma.CMAEvolutionStrategy(config.latent_size*[0], 0.5)\n",
    "# es.optimize(fitness)\n",
    "\n",
    "\n",
    "def fitness(x: torch.Tensor):\n",
    "    x = np.array(x)\n",
    "    latent = torch.FloatTensor(x).view(1, -1, 1, 1)\n",
    "    level = generator(x)\n",
    "    level_str = tensor_to_level_str(level)\n",
    "    playable = check_playable(level_str)\n",
    "    eval = eval(level_str)\n",
    "    return playable*300 + eval\n",
    "\n",
    "\n",
    "def eval(level_str):\n",
    "    wall = 0\n",
    "    enemy = 0\n",
    "    for s, i in enumerate(level_str):\n",
    "        for c, j in enumerate(level_str):\n",
    "            if c == 'w':\n",
    "                wall += 1\n",
    "            if c in ['1', '2', '3']:\n",
    "                enemy += 1\n",
    "    return wall + enemy\n"
   ]
  },
  {
   "cell_type": "code",
   "execution_count": null,
   "metadata": {},
   "outputs": [],
   "source": []
  }
 ],
 "metadata": {
  "interpreter": {
   "hash": "c6f04e54c30bdab06014272fe7a39801e1ba23455c10166a981ed4409abbe2cf"
  },
  "kernelspec": {
   "display_name": "Python 3.8.0 64-bit ('3.8.0')",
   "language": "python",
   "name": "python3"
  },
  "language_info": {
   "codemirror_mode": {
    "name": "ipython",
    "version": 3
   },
   "file_extension": ".py",
   "mimetype": "text/x-python",
   "name": "python",
   "nbconvert_exporter": "python",
   "pygments_lexer": "ipython3",
   "version": "3.8.0"
  },
  "orig_nbformat": 4,
  "vscode": {
   "interpreter": {
    "hash": "c6f04e54c30bdab06014272fe7a39801e1ba23455c10166a981ed4409abbe2cf"
   }
  }
 },
 "nbformat": 4,
 "nbformat_minor": 2
}
