{
 "cells": [
  {
   "cell_type": "code",
   "execution_count": 43,
   "metadata": {},
   "outputs": [],
   "source": [
    "import torch\n",
    "import numpy as np\n",
    "import os\n",
    "import cma\n",
    "from eval import play\n",
    "from gan.config import SmallModelConfig\n",
    "from gan.models.small_models import Generator\n",
    "from play_rl.zelda_astar import play_astar\n",
    "from gan.utils import tensor_to_level_str,check_playable\n",
    "from gan.level_visualizer import LevelVisualizer\n",
    "from play_rl.env import Env\n",
    "from play_rl.wrappers import GridGame\n",
    "from play_rl.policy import Policy\n",
    "from PIL import Image"
   ]
  },
  {
   "cell_type": "code",
   "execution_count": 44,
   "metadata": {},
   "outputs": [
    {
     "name": "stdout",
     "output_type": "stream",
     "text": [
      "device : cpu\n"
     ]
    }
   ],
   "source": [
    "config = SmallModelConfig()\n",
    "config.set_env()\n",
    "config.cuda = False\n",
    "if config.cuda:\n",
    "    device = torch.device(\n",
    "        \"cuda\" if torch.cuda.is_available else \"cpu\")\n",
    "    print(\"device : cuda\")\n",
    "else:\n",
    "    device = torch.device(\"cpu\")\n",
    "    print(\"device : cpu\")\n",
    "generator = Generator(\n",
    "    out_dim=config.input_shape[0],\n",
    "    shapes=config.model_shapes,\n",
    "    z_shape=(config.latent_size,),\n",
    "    filters=config.generator_filters,\n",
    "    use_linear4z2features_g=False\n",
    ").to(device)\n",
    "env_def = Env(config.env_name,config.env_version)\n",
    "level_visualizer = LevelVisualizer(env=env_def)\n",
    "\n",
    "# model_path = os.path.join(\n",
    "#     \"/root/mnt/GVGAI-GAN/gan/checkpoints/_ours-152\", \"models_3800.tar\")\n",
    "# model_path = os.path.join(\n",
    "#     \"/root/mnt/GVGAI-GAN/gan/checkpoints/_boot_baseline-161\", \"models_3500.tar\")\n",
    "model_path = os.path.join(\n",
    "    '/root/mnt/GVGAI-GAN/gan/checkpoints/_only5-121','models_1240.tar'\n",
    ")\n",
    "\n",
    "load_model = torch.load(model_path)\n",
    "generator.load_state_dict(load_model[\"generator\"])\n",
    "x = torch.randn(config.latent_size).to(device)\n"
   ]
  },
  {
   "cell_type": "code",
   "execution_count": 45,
   "metadata": {},
   "outputs": [
    {
     "name": "stdout",
     "output_type": "stream",
     "text": [
      "Connecting to host 127.0.0.1 at port 53487 ...\n",
      "Client connected to server [OK]\n",
      "(7_w,14)-aCMA-ES (mu_w=4.3,w_1=36%) in dimension 32 (seed=1034702, Sun Sep 11 12:27:43 2022)\n",
      "Iterat #Fevals   function value  axis ratio  sigma  min&max std  t[m:s]\n",
      "    1     14 6.800000000000000e+01 1.0e+00 4.70e-01  5e-01  5e-01 0:00.1\n",
      "    2     28 1.000000000000000e+02 1.1e+00 4.51e-01  4e-01  5e-01 0:00.2\n",
      "    3     42 6.800000000000000e+01 1.1e+00 4.34e-01  4e-01  4e-01 0:00.3\n",
      "   49    686 6.700000000000000e+01 1.8e+00 4.04e-01  4e-01  4e-01 0:03.3\n",
      "  100   1400 6.500000000000000e+01 2.2e+00 3.54e-01  3e-01  4e-01 0:07.3\n",
      "  173   2422 6.500000000000000e+01 3.2e+00 2.91e-01  3e-01  3e-01 0:12.4\n",
      "  200   2800 6.400000000000000e+01 3.5e+00 1.98e-01  2e-01  2e-01 0:14.5\n",
      "  251   3514 6.300000000000000e+01 4.5e+00 1.93e-01  2e-01  2e-01 0:17.8\n",
      "INIT:  [-1.30624342  2.17253709 -1.26194882  0.70168698  0.48670536 -0.68561083\n",
      " -1.16792929 -0.72163409  2.15598607 -0.26396698 -0.06198801 -0.6816451\n",
      " -0.41735104  1.52881324  1.11455071 -0.98790306  0.70348269 -0.34058639\n",
      "  0.19006355 -1.63971329  1.24362314 -0.74457413 -1.04797626 -0.42710051\n",
      "  0.69747621  0.54746175 -0.09710265 -0.18666081  0.61255676 -0.80526727\n",
      " -1.10060501 -0.40852743]\n",
      "BEST:  [ 0.05692746  3.86570667 -4.70130664 -1.97941608 -1.37838896  2.19540835\n",
      " -0.53304532  0.54553012  4.35548609  0.32530588  1.44107234 -0.91915946\n",
      " -0.624335    2.56550942  5.51773125 -3.65031946 -0.28561032 -1.3148081\n",
      "  0.21310317 -2.32934281  1.55236273 -1.68092146 -1.03818422 -1.97373983\n",
      " -0.2581523  -1.46369463 -1.82005193 -1.42446096 -1.99786608  0.37425686\n",
      " -2.34379272  2.04339515]\n",
      "Fitness:  63\n"
     ]
    },
    {
     "data": {
      "image/png": "[encoded data removed]",
      "text/plain": [
       "<PIL.Image.Image image mode=RGB size=260x196 at 0x7FAAC4820610>"
      ]
     },
     "metadata": {},
     "output_type": "display_data"
    },
    {
     "data": {
      "image/png": "[encoded data removed]",
      "text/plain": [
       "<PIL.Image.Image image mode=RGB size=260x196 at 0x7FAB70CA12B0>"
      ]
     },
     "metadata": {},
     "output_type": "display_data"
    }
   ],
   "source": [
    "def eval(level_str):\n",
    "    wall = 0\n",
    "    enemy = 0\n",
    "    for i, s in enumerate(level_str):\n",
    "        for j, c in enumerate(s):\n",
    "            if c == 'w':\n",
    "                wall += 1\n",
    "            if c in ['1', '2', '3']:\n",
    "                enemy += 1\n",
    "    return - wall - enemy\n",
    "\n",
    "\n",
    "env = GridGame(config.env_name, 200, env_def.state_shape)\n",
    "actor = Policy(env.observation_space.shape, env.action_space,base_kwargs={\"recurrent\": True})\n",
    "actor.load_state_dict(torch.load('/root/mnt/GVGAI-GAN/play_rl/checkpoints/ppo/zelda_20220825102126.pt'))\n",
    "\n",
    "def fitness(x: torch.Tensor):\n",
    "    x = np.array(x)\n",
    "    latent = torch.FloatTensor(x).view(1, -1, 1, 1)\n",
    "    level = generator(latent)\n",
    "    level_str = tensor_to_level_str('zelda', level)\n",
    "    playable = check_playable(level_str[0])\n",
    "    if not playable:\n",
    "        return 100\n",
    "    # reward,step,_ = play(level_str[0],env=env,actor=actor)\n",
    "    # reward, step, _ = play_astar(level_str[0], env=env)\n",
    "\n",
    "    # return -(reward*100+step)\n",
    "    ev = eval(level_str)\n",
    "    return -ev\n",
    "\n",
    "def show(x):\n",
    "    p_level = torch.nn.Softmax2d()(generator(x))\n",
    "    level_strs = tensor_to_level_str(\n",
    "        config.env_name, p_level)\n",
    "    p_level_img = np.array(level_visualizer.draw_level(level_strs[0]))\n",
    "    image = Image.fromarray(p_level_img)\n",
    "    image.show()\n",
    "\n",
    "es = cma.CMAEvolutionStrategy(x.tolist(), 0.5)\n",
    "# es.optimize(fitness,iterations=30,min_iterations=30)\n",
    "es.optimize(fitness)\n",
    "best = np.array(es.best.get()[0])\n",
    "print(\"INIT: \", np.array(x.tolist()))\n",
    "print(\"BEST: \", best)\n",
    "print(\"Fitness: \", fitness(best))\n",
    "show(x)\n",
    "show(torch.FloatTensor(best))\n",
    "\n",
    "# sum = 0\n",
    "# N = 10\n",
    "# for i in range(N):\n",
    "#     x = torch.randn(config.latent_size).to(device)\n",
    "#     es = cma.CMAEvolutionStrategy(x.tolist(), 0.5)\n",
    "#     es.optimize(fitness)\n",
    "#     best = np.array(es.best.get()[0])\n",
    "#     sum += fitness(best)\n",
    "\n",
    "# print(\"mean:\",best/N)\n"
   ]
  },
  {
   "cell_type": "code",
   "execution_count": 46,
   "metadata": {},
   "outputs": [
    {
     "name": "stdout",
     "output_type": "stream",
     "text": [
      "mean: 58.3\n"
     ]
    }
   ],
   "source": [
    "print(\"mean:\", sum/N)\n"
   ]
  }
 ],
 "metadata": {
  "interpreter": {
   "hash": "c6f04e54c30bdab06014272fe7a39801e1ba23455c10166a981ed4409abbe2cf"
  },
  "kernelspec": {
   "display_name": "Python 3.8.0 64-bit ('3.8.0')",
   "language": "python",
   "name": "python3"
  },
  "language_info": {
   "codemirror_mode": {
    "name": "ipython",
    "version": 3
   },
   "file_extension": ".py",
   "mimetype": "text/x-python",
   "name": "python",
   "nbconvert_exporter": "python",
   "pygments_lexer": "ipython3",
   "version": "3.8.0"
  },
  "orig_nbformat": 4,
  "vscode": {
   "interpreter": {
    "hash": "c6f04e54c30bdab06014272fe7a39801e1ba23455c10166a981ed4409abbe2cf"
   }
  }
 },
 "nbformat": 4,
 "nbformat_minor": 2
}
