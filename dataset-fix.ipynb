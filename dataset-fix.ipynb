{
 "cells": [
  {
   "cell_type": "code",
   "execution_count": 1,
   "metadata": {},
   "outputs": [],
   "source": [
    "import os\n",
    "import shutil\n",
    "import random\n",
    "\n",
    "dataset_dir = '/root/mnt/GVGAI-GAN/gan/data/level/zelda/generated'\n",
    "fixed_dataset_dir = '/root/mnt/GVGAI-GAN/gan/data/level/zelda/generated_fixed'\n",
    "\n",
    "files = os.listdir(dataset_dir)\n",
    "\n",
    "if os.path.exists(fixed_dataset_dir):\n",
    "    shutil.rmtree(fixed_dataset_dir)\n",
    "os.makedirs(fixed_dataset_dir)\n",
    "\n",
    "FIXED_DATASET_COUNT = 512\n",
    "\n",
    "# selected_files = random.sample(files,FIXED_DATASET_COUNT)\n",
    "selected_files = files[:512]\n",
    "for i,file in enumerate(selected_files):\n",
    "    with open(os.path.join(dataset_dir,file),mode='r') as f:\n",
    "        level_str = f.read()\n",
    "    with open(os.path.join(fixed_dataset_dir,f'zelda_{i}'),mode='w') as f:\n",
    "        f.write(level_str)"
   ]
  }
 ],
 "metadata": {
  "kernelspec": {
   "display_name": "Python 3.8.0 64-bit ('3.8.0')",
   "language": "python",
   "name": "python3"
  },
  "language_info": {
   "codemirror_mode": {
    "name": "ipython",
    "version": 3
   },
   "file_extension": ".py",
   "mimetype": "text/x-python",
   "name": "python",
   "nbconvert_exporter": "python",
   "pygments_lexer": "ipython3",
   "version": "3.8.0"
  },
  "orig_nbformat": 4,
  "vscode": {
   "interpreter": {
    "hash": "c6f04e54c30bdab06014272fe7a39801e1ba23455c10166a981ed4409abbe2cf"
   }
  }
 },
 "nbformat": 4,
 "nbformat_minor": 2
}
