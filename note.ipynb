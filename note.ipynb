{
 "cells": [
  {
   "cell_type": "code",
   "execution_count": 1,
   "metadata": {},
   "outputs": [
    {
     "ename": "AttributeError",
     "evalue": "'TrainingConfig' object has no attribute 'is_self_attention_g'",
     "output_type": "error",
     "traceback": [
      "\u001b[0;31m---------------------------------------------------------------------------\u001b[0m",
      "\u001b[0;31mAttributeError\u001b[0m                            Traceback (most recent call last)",
      "\u001b[1;32m/root/mnt/pcg/GVGAI-GAN/note.ipynb Cell 1'\u001b[0m in \u001b[0;36m<cell line: 12>\u001b[0;34m()\u001b[0m\n\u001b[1;32m      <a href='vscode-notebook-cell://attached-container%2B7b22636f6e7461696e65724e616d65223a222f74657374222c2273657474696e6773223a7b22686f7374223a227373683a2f2f732d74616b617461403137322e32312e36342e313931227d7d/root/mnt/pcg/GVGAI-GAN/note.ipynb#ch0000000vscode-remote?line=8'>9</a>\u001b[0m device \u001b[39m=\u001b[39m torch\u001b[39m.\u001b[39mdevice(\u001b[39m\"\u001b[39m\u001b[39mcuda\u001b[39m\u001b[39m\"\u001b[39m)\n\u001b[1;32m     <a href='vscode-notebook-cell://attached-container%2B7b22636f6e7461696e65724e616d65223a222f74657374222c2273657474696e6773223a7b22686f7374223a227373683a2f2f732d74616b617461403137322e32312e36342e313931227d7d/root/mnt/pcg/GVGAI-GAN/note.ipynb#ch0000000vscode-remote?line=9'>10</a>\u001b[0m model_save_path \u001b[39m=\u001b[39m \u001b[39m\"\u001b[39m\u001b[39m/root/mnt/GVGAI-GAN/gan/checkpoints/none-708\u001b[39m\u001b[39m\"\u001b[39m\n\u001b[1;32m     <a href='vscode-notebook-cell://attached-container%2B7b22636f6e7461696e65724e616d65223a222f74657374222c2273657474696e6773223a7b22686f7374223a227373683a2f2f732d74616b617461403137322e32312e36342e313931227d7d/root/mnt/pcg/GVGAI-GAN/note.ipynb#ch0000000vscode-remote?line=11'>12</a>\u001b[0m generator \u001b[39m=\u001b[39m Generator(\n\u001b[1;32m     <a href='vscode-notebook-cell://attached-container%2B7b22636f6e7461696e65724e616d65223a222f74657374222c2273657474696e6773223a7b22686f7374223a227373683a2f2f732d74616b617461403137322e32312e36342e313931227d7d/root/mnt/pcg/GVGAI-GAN/note.ipynb#ch0000000vscode-remote?line=12'>13</a>\u001b[0m     out_dim\u001b[39m=\u001b[39mconfig\u001b[39m.\u001b[39minput_shape[\u001b[39m0\u001b[39m],\n\u001b[1;32m     <a href='vscode-notebook-cell://attached-container%2B7b22636f6e7461696e65724e616d65223a222f74657374222c2273657474696e6773223a7b22686f7374223a227373683a2f2f732d74616b617461403137322e32312e36342e313931227d7d/root/mnt/pcg/GVGAI-GAN/note.ipynb#ch0000000vscode-remote?line=13'>14</a>\u001b[0m     shapes\u001b[39m=\u001b[39mconfig\u001b[39m.\u001b[39mmodel_shapes,\n\u001b[1;32m     <a href='vscode-notebook-cell://attached-container%2B7b22636f6e7461696e65724e616d65223a222f74657374222c2273657474696e6773223a7b22686f7374223a227373683a2f2f732d74616b617461403137322e32312e36342e313931227d7d/root/mnt/pcg/GVGAI-GAN/note.ipynb#ch0000000vscode-remote?line=14'>15</a>\u001b[0m     z_shape\u001b[39m=\u001b[39m(config\u001b[39m.\u001b[39mlatent_size,),\n\u001b[1;32m     <a href='vscode-notebook-cell://attached-container%2B7b22636f6e7461696e65724e616d65223a222f74657374222c2273657474696e6773223a7b22686f7374223a227373683a2f2f732d74616b617461403137322e32312e36342e313931227d7d/root/mnt/pcg/GVGAI-GAN/note.ipynb#ch0000000vscode-remote?line=15'>16</a>\u001b[0m     filters\u001b[39m=\u001b[39mconfig\u001b[39m.\u001b[39mgenerator_filters,\n\u001b[0;32m---> <a href='vscode-notebook-cell://attached-container%2B7b22636f6e7461696e65724e616d65223a222f74657374222c2273657474696e6773223a7b22686f7374223a227373683a2f2f732d74616b617461403137322e32312e36342e313931227d7d/root/mnt/pcg/GVGAI-GAN/note.ipynb#ch0000000vscode-remote?line=16'>17</a>\u001b[0m     is_self_attention\u001b[39m=\u001b[39mconfig\u001b[39m.\u001b[39;49mis_self_attention_g,\n\u001b[1;32m     <a href='vscode-notebook-cell://attached-container%2B7b22636f6e7461696e65724e616d65223a222f74657374222c2273657474696e6773223a7b22686f7374223a227373683a2f2f732d74616b617461403137322e32312e36342e313931227d7d/root/mnt/pcg/GVGAI-GAN/note.ipynb#ch0000000vscode-remote?line=17'>18</a>\u001b[0m     is_conditional\u001b[39m=\u001b[39mconfig\u001b[39m.\u001b[39mis_conditional,\n\u001b[1;32m     <a href='vscode-notebook-cell://attached-container%2B7b22636f6e7461696e65724e616d65223a222f74657374222c2273657474696e6773223a7b22686f7374223a227373683a2f2f732d74616b617461403137322e32312e36342e313931227d7d/root/mnt/pcg/GVGAI-GAN/note.ipynb#ch0000000vscode-remote?line=18'>19</a>\u001b[0m )\u001b[39m.\u001b[39mto(device)\n\u001b[1;32m     <a href='vscode-notebook-cell://attached-container%2B7b22636f6e7461696e65724e616d65223a222f74657374222c2273657474696e6773223a7b22686f7374223a227373683a2f2f732d74616b617461403137322e32312e36342e313931227d7d/root/mnt/pcg/GVGAI-GAN/note.ipynb#ch0000000vscode-remote?line=20'>21</a>\u001b[0m model_dict \u001b[39m=\u001b[39m torch\u001b[39m.\u001b[39mload(os\u001b[39m.\u001b[39mpath\u001b[39m.\u001b[39mjoin(model_save_path, \u001b[39m\"\u001b[39m\u001b[39mmodels.tar\u001b[39m\u001b[39m\"\u001b[39m))\n\u001b[1;32m     <a href='vscode-notebook-cell://attached-container%2B7b22636f6e7461696e65724e616d65223a222f74657374222c2273657474696e6773223a7b22686f7374223a227373683a2f2f732d74616b617461403137322e32312e36342e313931227d7d/root/mnt/pcg/GVGAI-GAN/note.ipynb#ch0000000vscode-remote?line=21'>22</a>\u001b[0m generator\u001b[39m.\u001b[39mload_state_dict(model_dict[\u001b[39m\"\u001b[39m\u001b[39mgenerator\u001b[39m\u001b[39m\"\u001b[39m])\n",
      "\u001b[0;31mAttributeError\u001b[0m: 'TrainingConfig' object has no attribute 'is_self_attention_g'"
     ]
    }
   ],
   "source": [
    "import torch\n",
    "import os\n",
    "from gan.models import Generator\n",
    "from gan.config import TrainingConfig\n",
    "from gan.utils import tensor_to_level_str,check_playable,check_level_similarity\n",
    "\n",
    "config = TrainingConfig()\n",
    "config.set_env()\n",
    "device = torch.device(\"cuda\")\n",
    "model_save_path = \"/root/mnt/GVGAI-GAN/gan/checkpoints/none-708\"\n",
    "\n",
    "generator = Generator(\n",
    "    out_dim=config.input_shape[0],\n",
    "    shapes=config.model_shapes,\n",
    "    z_shape=(config.latent_size,),\n",
    "    filters=config.generator_filters,\n",
    "    is_self_attention=config.is_self_attention_g,\n",
    "    is_conditional=config.is_conditional,\n",
    ").to(device)\n",
    "\n",
    "model_dict = torch.load(os.path.join(model_save_path, \"models.tar\"))\n",
    "generator.load_state_dict(model_dict[\"generator\"])\n",
    "\n",
    "\n"
   ]
  },
  {
   "cell_type": "code",
   "execution_count": null,
   "metadata": {},
   "outputs": [],
   "source": [
    "def check_level_hamming(level1: str, level2: str):\n",
    "    hit = 0\n",
    "    for c1, c2 in zip(level1, level2):\n",
    "        if c1 == \"\\n\":\n",
    "            continue\n",
    "        if c1 != c2:\n",
    "            hit += 1\n",
    "    return hit\n"
   ]
  },
  {
   "cell_type": "code",
   "execution_count": null,
   "metadata": {},
   "outputs": [
    {
     "name": "stdout",
     "output_type": "stream",
     "text": [
      "0.18\n",
      "0.11522027137200093\n",
      "0.20803418803418802\n"
     ]
    }
   ],
   "source": [
    "latents_for_eval = torch.randn(\n",
    "    300,\n",
    "    config.latent_size,\n",
    ").to(device)\n",
    "\n",
    "output_levels = generator(latents_for_eval)\n",
    "\n",
    "level_strs = tensor_to_level_str(config.env_name, output_levels)\n",
    "playable_levels = []\n",
    "playable_count = 0\n",
    "for level_str in level_strs:\n",
    "    if check_playable(level_str):\n",
    "        playable_levels.append(level_str)\n",
    "\n",
    "res_level= 0\n",
    "n=0\n",
    "for i in range(0, len(playable_levels)):\n",
    "    for j in range(i + 1, len(playable_levels)):\n",
    "        res_level += check_level_hamming(\n",
    "            playable_levels[i], playable_levels[j])\n",
    "        n+=1\n",
    "\n",
    "print(len(playable_levels)/300)\n",
    "print(res_level/(n)/(12*16))\n",
    "print(24.34/(9*13))"
   ]
  },
  {
   "cell_type": "code",
   "execution_count": null,
   "metadata": {},
   "outputs": [
    {
     "name": "stdout",
     "output_type": "stream",
     "text": [
      "0.1607152342422061\n"
     ]
    }
   ],
   "source": [
    "import glob\n",
    "\n",
    "files = glob.glob(\"/root/mnt/GVGAI-GAN/gan/data/level/zelda/generated_good/*\")\n",
    "\n",
    "real_levels = []\n",
    "for file in files:\n",
    "    with open(os.path.join(\"/root/mnt/GVGAI-GAN/gan/data/level/zelda/generated_good/\",file),'r') as f:\n",
    "        s = f.read()\n",
    "        real_levels.append(s)\n",
    "hamming = 0\n",
    "n = 0\n",
    "for i in range(0, len(real_levels)):\n",
    "    for j in range(i + 1, len(real_levels)):\n",
    "        hamming += check_level_hamming(\n",
    "            real_levels[i], real_levels[j])\n",
    "        n += 1\n",
    "print(hamming/(n)/(12*16))"
   ]
  },
  {
   "cell_type": "code",
   "execution_count": null,
   "metadata": {},
   "outputs": [
    {
     "name": "stdout",
     "output_type": "stream",
     "text": [
      "0.12806500171009358\n"
     ]
    }
   ],
   "source": [
    "import glob\n",
    "\n",
    "files = glob.glob(\"/root/mnt/GVGAI-GAN/gan/data/level/zelda/generated_large/*\")\n",
    "\n",
    "real_levels = []\n",
    "for file in files:\n",
    "    with open(os.path.join(\"/root/mnt/GVGAI-GAN/gan/data/level/zelda/generated_large/\", file), 'r') as f:\n",
    "        s = f.read()\n",
    "        real_levels.append(s)\n",
    "hamming = 0\n",
    "n = 0\n",
    "for i in range(0, len(real_levels)):\n",
    "    for j in range(i + 1, len(real_levels)):\n",
    "        hamming += check_level_hamming(\n",
    "            real_levels[i], real_levels[j])\n",
    "        n += 1\n",
    "print(hamming/(n)/(12*16))\n"
   ]
  },
  {
   "cell_type": "code",
   "execution_count": null,
   "metadata": {},
   "outputs": [
    {
     "name": "stdout",
     "output_type": "stream",
     "text": [
      "0.2255208333333333\n"
     ]
    }
   ],
   "source": [
    "import glob\n",
    "\n",
    "files = glob.glob(\"/root/mnt/GVGAI-GAN/gan/data/level/zelda/originals/*\")\n",
    "\n",
    "real_levels = []\n",
    "for file in files:\n",
    "    with open(os.path.join(\"/root/mnt/GVGAI-GAN/gan/data/level/zelda/originals/\", file), 'r') as f:\n",
    "        s = f.read()\n",
    "        real_levels.append(s)\n",
    "hamming = 0\n",
    "n = 0\n",
    "for i in range(0, len(real_levels)):\n",
    "    for j in range(i + 1, len(real_levels)):\n",
    "        hamming += check_level_hamming(\n",
    "            real_levels[i], real_levels[j])\n",
    "        n += 1\n",
    "print(hamming/(n)/(12*16))\n"
   ]
  },
  {
   "cell_type": "code",
   "execution_count": null,
   "metadata": {},
   "outputs": [
    {
     "name": "stdout",
     "output_type": "stream",
     "text": [
      "0.24803135521885522\n"
     ]
    }
   ],
   "source": [
    "import glob\n",
    "\n",
    "files = glob.glob(\"/root/mnt/GVGAI-GAN/gan/data/level/zelda/random/*\")\n",
    "\n",
    "real_levels = []\n",
    "for file in files:\n",
    "    with open(os.path.join(\"/root/mnt/GVGAI-GAN/gan/data/level/zelda/random/\", file), 'r') as f:\n",
    "        s = f.read()\n",
    "        real_levels.append(s)\n",
    "hamming = 0\n",
    "n = 0\n",
    "for i in range(0, len(real_levels)):\n",
    "    for j in range(i + 1, len(real_levels)):\n",
    "        hamming += check_level_hamming(\n",
    "            real_levels[i], real_levels[j])\n",
    "        n += 1\n",
    "print(hamming/(n)/(12*16))\n"
   ]
  },
  {
   "cell_type": "code",
   "execution_count": 2,
   "metadata": {},
   "outputs": [
    {
     "name": "stdout",
     "output_type": "stream",
     "text": [
      "device : cuda\n"
     ]
    },
    {
     "ename": "TypeError",
     "evalue": "__init__() got an unexpected keyword argument 'use_conditional'",
     "output_type": "error",
     "traceback": [
      "\u001b[0;31m---------------------------------------------------------------------------\u001b[0m",
      "\u001b[0;31mTypeError\u001b[0m                                 Traceback (most recent call last)",
      "\u001b[1;32m/root/mnt/pcg/GVGAI-GAN/note.ipynb Cell 8'\u001b[0m in \u001b[0;36m<cell line: 8>\u001b[0;34m()\u001b[0m\n\u001b[1;32m      <a href='vscode-notebook-cell://attached-container%2B7b22636f6e7461696e65724e616d65223a222f74657374222c2273657474696e6773223a7b22686f7374223a227373683a2f2f732d74616b617461403137322e32312e36342e313931227d7d/root/mnt/pcg/GVGAI-GAN/note.ipynb#ch0000007vscode-remote?line=5'>6</a>\u001b[0m     device \u001b[39m=\u001b[39m torch\u001b[39m.\u001b[39mdevice(\u001b[39m\"\u001b[39m\u001b[39mcpu\u001b[39m\u001b[39m\"\u001b[39m)\n\u001b[1;32m      <a href='vscode-notebook-cell://attached-container%2B7b22636f6e7461696e65724e616d65223a222f74657374222c2273657474696e6773223a7b22686f7374223a227373683a2f2f732d74616b617461403137322e32312e36342e313931227d7d/root/mnt/pcg/GVGAI-GAN/note.ipynb#ch0000007vscode-remote?line=6'>7</a>\u001b[0m     \u001b[39mprint\u001b[39m(\u001b[39m\"\u001b[39m\u001b[39mdevice : cpu\u001b[39m\u001b[39m\"\u001b[39m)\n\u001b[0;32m----> <a href='vscode-notebook-cell://attached-container%2B7b22636f6e7461696e65724e616d65223a222f74657374222c2273657474696e6773223a7b22686f7374223a227373683a2f2f732d74616b617461403137322e32312e36342e313931227d7d/root/mnt/pcg/GVGAI-GAN/note.ipynb#ch0000007vscode-remote?line=7'>8</a>\u001b[0m generator \u001b[39m=\u001b[39m Generator(\n\u001b[1;32m      <a href='vscode-notebook-cell://attached-container%2B7b22636f6e7461696e65724e616d65223a222f74657374222c2273657474696e6773223a7b22686f7374223a227373683a2f2f732d74616b617461403137322e32312e36342e313931227d7d/root/mnt/pcg/GVGAI-GAN/note.ipynb#ch0000007vscode-remote?line=8'>9</a>\u001b[0m     out_dim\u001b[39m=\u001b[39;49mconfig\u001b[39m.\u001b[39;49minput_shape[\u001b[39m0\u001b[39;49m],\n\u001b[1;32m     <a href='vscode-notebook-cell://attached-container%2B7b22636f6e7461696e65724e616d65223a222f74657374222c2273657474696e6773223a7b22686f7374223a227373683a2f2f732d74616b617461403137322e32312e36342e313931227d7d/root/mnt/pcg/GVGAI-GAN/note.ipynb#ch0000007vscode-remote?line=9'>10</a>\u001b[0m     shapes\u001b[39m=\u001b[39;49mconfig\u001b[39m.\u001b[39;49mmodel_shapes,\n\u001b[1;32m     <a href='vscode-notebook-cell://attached-container%2B7b22636f6e7461696e65724e616d65223a222f74657374222c2273657474696e6773223a7b22686f7374223a227373683a2f2f732d74616b617461403137322e32312e36342e313931227d7d/root/mnt/pcg/GVGAI-GAN/note.ipynb#ch0000007vscode-remote?line=10'>11</a>\u001b[0m     z_shape\u001b[39m=\u001b[39;49m(config\u001b[39m.\u001b[39;49mlatent_size,),\n\u001b[1;32m     <a href='vscode-notebook-cell://attached-container%2B7b22636f6e7461696e65724e616d65223a222f74657374222c2273657474696e6773223a7b22686f7374223a227373683a2f2f732d74616b617461403137322e32312e36342e313931227d7d/root/mnt/pcg/GVGAI-GAN/note.ipynb#ch0000007vscode-remote?line=11'>12</a>\u001b[0m     filters\u001b[39m=\u001b[39;49mconfig\u001b[39m.\u001b[39;49mgenerator_filters,\n\u001b[1;32m     <a href='vscode-notebook-cell://attached-container%2B7b22636f6e7461696e65724e616d65223a222f74657374222c2273657474696e6773223a7b22686f7374223a227373683a2f2f732d74616b617461403137322e32312e36342e313931227d7d/root/mnt/pcg/GVGAI-GAN/note.ipynb#ch0000007vscode-remote?line=12'>13</a>\u001b[0m     use_conditional\u001b[39m=\u001b[39;49mconfig\u001b[39m.\u001b[39;49muse_conditional\n\u001b[1;32m     <a href='vscode-notebook-cell://attached-container%2B7b22636f6e7461696e65724e616d65223a222f74657374222c2273657474696e6773223a7b22686f7374223a227373683a2f2f732d74616b617461403137322e32312e36342e313931227d7d/root/mnt/pcg/GVGAI-GAN/note.ipynb#ch0000007vscode-remote?line=13'>14</a>\u001b[0m )\u001b[39m.\u001b[39mto(device)\n\u001b[1;32m     <a href='vscode-notebook-cell://attached-container%2B7b22636f6e7461696e65724e616d65223a222f74657374222c2273657474696e6773223a7b22686f7374223a227373683a2f2f732d74616b617461403137322e32312e36342e313931227d7d/root/mnt/pcg/GVGAI-GAN/note.ipynb#ch0000007vscode-remote?line=15'>16</a>\u001b[0m model_path \u001b[39m=\u001b[39m os\u001b[39m.\u001b[39mpath\u001b[39m.\u001b[39mjoin(\n\u001b[1;32m     <a href='vscode-notebook-cell://attached-container%2B7b22636f6e7461696e65724e616d65223a222f74657374222c2273657474696e6773223a7b22686f7374223a227373683a2f2f732d74616b617461403137322e32312e36342e313931227d7d/root/mnt/pcg/GVGAI-GAN/note.ipynb#ch0000007vscode-remote?line=16'>17</a>\u001b[0m     \u001b[39m\"\u001b[39m\u001b[39m/root/mnt/pcg/GVGAI-GAN/gan/checkpoints/none-795\u001b[39m\u001b[39m\"\u001b[39m, \u001b[39m\"\u001b[39m\u001b[39mmodels.tar\u001b[39m\u001b[39m\"\u001b[39m)\n\u001b[1;32m     <a href='vscode-notebook-cell://attached-container%2B7b22636f6e7461696e65724e616d65223a222f74657374222c2273657474696e6773223a7b22686f7374223a227373683a2f2f732d74616b617461403137322e32312e36342e313931227d7d/root/mnt/pcg/GVGAI-GAN/note.ipynb#ch0000007vscode-remote?line=17'>18</a>\u001b[0m load_model \u001b[39m=\u001b[39m torch\u001b[39m.\u001b[39mload(model_path)\n",
      "\u001b[0;31mTypeError\u001b[0m: __init__() got an unexpected keyword argument 'use_conditional'"
     ]
    }
   ],
   "source": [
    "if config.cuda:\n",
    "    device = torch.device(\n",
    "        \"cuda\" if torch.cuda.is_available else \"cpu\")\n",
    "    print(\"device : cuda\")\n",
    "else:\n",
    "    device = torch.device(\"cpu\")\n",
    "    print(\"device : cpu\")\n",
    "generator = Generator(\n",
    "    out_dim=config.input_shape[0],\n",
    "    shapes=config.model_shapes,\n",
    "    z_shape=(config.latent_size,),\n",
    "    filters=config.generator_filters,\n",
    "    use_conditional=config.use_conditional\n",
    ").to(device)\n",
    "\n",
    "model_path = os.path.join(\n",
    "    \"/root/mnt/pcg/GVGAI-GAN/gan/checkpoints/none-795\", \"models.tar\")\n",
    "load_model = torch.load(model_path)\n",
    "generator.load_state_dict(load_model[\"generator\"])\n",
    "\n",
    "x = torch.randn(config.latent_size).to(device)\n",
    "\n",
    "# es = cma.CMAEvolutionStrategy(config.latent_size*[0], 0.5)\n",
    "# es.optimize(fitness)\n",
    "\n",
    "def fitness(x: torch.Tensor):\n",
    "    x = np.array(x)\n",
    "    latent = torch.FloatTensor(x).view(1, -1, 1, 1)\n",
    "    level = generator(x)\n",
    "    level_str = tensor_to_level_str(level)\n",
    "    playable = check_playable(level_str)\n",
    "    eval = eval(level_str)\n",
    "    return playable*300 + eval\n",
    "\n",
    "def eval(level_str):\n",
    "    wall = 0\n",
    "    enemy = 0\n",
    "    for s, i in enumerate(level_str):\n",
    "        for c, j in enumerate(level_str):\n",
    "            if c == 'w':\n",
    "                wall += 1\n",
    "            if c in ['1', '2', '3']:\n",
    "                enemy += 1\n",
    "    return wall + enemy\n"
   ]
  }
 ],
 "metadata": {
  "interpreter": {
   "hash": "c6f04e54c30bdab06014272fe7a39801e1ba23455c10166a981ed4409abbe2cf"
  },
  "kernelspec": {
   "display_name": "Python 3.8.0 64-bit ('3.8.0')",
   "language": "python",
   "name": "python3"
  },
  "language_info": {
   "codemirror_mode": {
    "name": "ipython",
    "version": 3
   },
   "file_extension": ".py",
   "mimetype": "text/x-python",
   "name": "python",
   "nbconvert_exporter": "python",
   "pygments_lexer": "ipython3",
   "version": "3.8.0"
  },
  "orig_nbformat": 4
 },
 "nbformat": 4,
 "nbformat_minor": 2
}
