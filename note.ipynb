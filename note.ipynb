{
 "cells": [
  {
   "cell_type": "code",
   "execution_count": 107,
   "metadata": {},
   "outputs": [
    {
     "data": {
      "text/plain": [
       "<All keys matched successfully>"
      ]
     },
     "execution_count": 107,
     "metadata": {},
     "output_type": "execute_result"
    }
   ],
   "source": [
    "import torch\n",
    "import os\n",
    "from gan.models.small_models import Generator\n",
    "from gan.config import TrainingConfig,SmallModelConfig\n",
    "from gan.utils import tensor_to_level_str,check_playable,check_level_similarity\n",
    "\n",
    "config = SmallModelConfig()\n",
    "config.set_env()\n",
    "device = torch.device(\"cuda\")\n",
    "\n",
    "generator = Generator(\n",
    "    out_dim=config.input_shape[0],\n",
    "    shapes=config.model_shapes,\n",
    "    z_shape=(config.latent_size,),\n",
    "    filters=config.generator_filters,\n",
    "    use_linear4z2features_g=config.use_linear4z2features_g,\n",
    "    use_self_attention=config.use_self_attention_g,\n",
    "    use_conditional=config.use_conditional,\n",
    "    use_deconv_g=config.use_deconv_g\n",
    ").to(device)\n",
    "\n",
    "# model_save_path = \"/root/mnt/GVGAI-GAN/gan/checkpoints/_boot_baseline-161\"\n",
    "# model_dict = torch.load(os.path.join(model_save_path, \"models_3500.tar\"))\n",
    "\n",
    "# model_save_path = \"/root/mnt/GVGAI-GAN/gan/checkpoints/_only5-121\"\n",
    "# model_dict = torch.load(os.path.join(model_save_path, \"models_1240.tar\"))\n",
    "\n",
    "# model_save_path = \"/root/mnt/GVGAI-GAN/gan/checkpoints/_ours-152\"\n",
    "# model_dict = torch.load(os.path.join(model_save_path, \"models_3800.tar\"))\n",
    "\n",
    "# model_save_path = \"/root/mnt/GVGAI-GAN/gan/checkpoints/_ours2-166\"\n",
    "# model_dict = torch.load(os.path.join(model_save_path, \"models_800.tar\"))\n",
    "\n",
    "# model_save_path = \"/root/mnt/GVGAI-GAN/gan/checkpoints/_wo-l1-154\"\n",
    "# model_dict = torch.load(os.path.join(model_save_path, \"models_3800.tar\"))\n",
    "\n",
    "model_save_path = \"/root/mnt/GVGAI-GAN/gan/checkpoints/_wo-simfilter-155\"\n",
    "model_dict = torch.load(os.path.join(model_save_path, \"models_3600.tar\"))\n",
    "\n",
    "generator.load_state_dict(model_dict[\"generator\"])\n",
    "\n",
    "\n"
   ]
  },
  {
   "cell_type": "code",
   "execution_count": 87,
   "metadata": {},
   "outputs": [],
   "source": [
    "def check_level_hamming(level1: str, level2: str):\n",
    "    hit = 0\n",
    "    for c1, c2 in zip(level1, level2):\n",
    "        if c1 == \"\\n\":\n",
    "            continue\n",
    "        if c1 != c2:\n",
    "            hit += 1\n",
    "    return hit\n",
    "\n",
    "\n",
    "def check_level_object_duprecated(level1: str, level2: str):\n",
    "    hit = 0\n",
    "    for c1, c2 in zip(level1, level2):\n",
    "        if c1 == \"\\n\":\n",
    "            continue\n",
    "        if c1 in ['g','+','A'] and c1 == c2:\n",
    "            hit += 1\n",
    "    return hit==3\n"
   ]
  },
  {
   "cell_type": "code",
   "execution_count": 103,
   "metadata": {},
   "outputs": [
    {
     "name": "stdout",
     "output_type": "stream",
     "text": [
      "Playable Ratio: 0.841\n"
     ]
    },
    {
     "ename": "KeyboardInterrupt",
     "evalue": "",
     "output_type": "error",
     "traceback": [
      "\u001b[0;31m---------------------------------------------------------------------------\u001b[0m",
      "\u001b[0;31mKeyboardInterrupt\u001b[0m                         Traceback (most recent call last)",
      "\u001b[1;32mセル3 を /root/mnt/GVGAI-GAN/note.ipynb\u001b[0m in \u001b[0;36m<cell line: 32>\u001b[0;34m()\u001b[0m\n\u001b[1;32m     <a href='vscode-notebook-cell://attached-container%2B7b22636f6e7461696e65724e616d65223a222f706367222c2273657474696e6773223a7b22686f7374223a227373683a2f2f732d74616b6174614031302e372e312e37227d7d/root/mnt/GVGAI-GAN/note.ipynb#W2sdnNjb2RlLXJlbW90ZQ%3D%3D?line=34'>35</a>\u001b[0m             \u001b[39mcontinue\u001b[39;00m\n\u001b[1;32m     <a href='vscode-notebook-cell://attached-container%2B7b22636f6e7461696e65724e616d65223a222f706367222c2273657474696e6773223a7b22686f7374223a227373683a2f2f732d74616b6174614031302e372e312e37227d7d/root/mnt/GVGAI-GAN/note.ipynb#W2sdnNjb2RlLXJlbW90ZQ%3D%3D?line=35'>36</a>\u001b[0m         obj_sum \u001b[39m+\u001b[39m\u001b[39m=\u001b[39m check_level_object_duprecated(playable_levels[i],playable_levels[j])\n\u001b[0;32m---> <a href='vscode-notebook-cell://attached-container%2B7b22636f6e7461696e65724e616d65223a222f706367222c2273657474696e6773223a7b22686f7374223a227373683a2f2f732d74616b6174614031302e372e312e37227d7d/root/mnt/GVGAI-GAN/note.ipynb#W2sdnNjb2RlLXJlbW90ZQ%3D%3D?line=36'>37</a>\u001b[0m         \u001b[39msum\u001b[39m \u001b[39m+\u001b[39m\u001b[39m=\u001b[39m check_level_hamming(playable_levels[i],playable_levels[j])\n\u001b[1;32m     <a href='vscode-notebook-cell://attached-container%2B7b22636f6e7461696e65724e616d65223a222f706367222c2273657474696e6773223a7b22686f7374223a227373683a2f2f732d74616b6174614031302e372e312e37227d7d/root/mnt/GVGAI-GAN/note.ipynb#W2sdnNjb2RlLXJlbW90ZQ%3D%3D?line=37'>38</a>\u001b[0m         n \u001b[39m+\u001b[39m\u001b[39m=\u001b[39m \u001b[39m1\u001b[39m\n\u001b[1;32m     <a href='vscode-notebook-cell://attached-container%2B7b22636f6e7461696e65724e616d65223a222f706367222c2273657474696e6773223a7b22686f7374223a227373683a2f2f732d74616b6174614031302e372e312e37227d7d/root/mnt/GVGAI-GAN/note.ipynb#W2sdnNjb2RlLXJlbW90ZQ%3D%3D?line=38'>39</a>\u001b[0m \u001b[39mprint\u001b[39m(\u001b[39m\"\u001b[39m\u001b[39mHamming Dist:\u001b[39m\u001b[39m\"\u001b[39m,\u001b[39msum\u001b[39m\u001b[39m/\u001b[39mn)\n",
      "\u001b[1;32mセル3 を /root/mnt/GVGAI-GAN/note.ipynb\u001b[0m in \u001b[0;36mcheck_level_hamming\u001b[0;34m(level1, level2)\u001b[0m\n\u001b[1;32m      <a href='vscode-notebook-cell://attached-container%2B7b22636f6e7461696e65724e616d65223a222f706367222c2273657474696e6773223a7b22686f7374223a227373683a2f2f732d74616b6174614031302e372e312e37227d7d/root/mnt/GVGAI-GAN/note.ipynb#W2sdnNjb2RlLXJlbW90ZQ%3D%3D?line=3'>4</a>\u001b[0m     \u001b[39mif\u001b[39;00m c1 \u001b[39m==\u001b[39m \u001b[39m\"\u001b[39m\u001b[39m\\n\u001b[39;00m\u001b[39m\"\u001b[39m:\n\u001b[1;32m      <a href='vscode-notebook-cell://attached-container%2B7b22636f6e7461696e65724e616d65223a222f706367222c2273657474696e6773223a7b22686f7374223a227373683a2f2f732d74616b6174614031302e372e312e37227d7d/root/mnt/GVGAI-GAN/note.ipynb#W2sdnNjb2RlLXJlbW90ZQ%3D%3D?line=4'>5</a>\u001b[0m         \u001b[39mcontinue\u001b[39;00m\n\u001b[0;32m----> <a href='vscode-notebook-cell://attached-container%2B7b22636f6e7461696e65724e616d65223a222f706367222c2273657474696e6773223a7b22686f7374223a227373683a2f2f732d74616b6174614031302e372e312e37227d7d/root/mnt/GVGAI-GAN/note.ipynb#W2sdnNjb2RlLXJlbW90ZQ%3D%3D?line=5'>6</a>\u001b[0m     \u001b[39mif\u001b[39;00m c1 \u001b[39m!=\u001b[39;49m c2:\n\u001b[1;32m      <a href='vscode-notebook-cell://attached-container%2B7b22636f6e7461696e65724e616d65223a222f706367222c2273657474696e6773223a7b22686f7374223a227373683a2f2f732d74616b6174614031302e372e312e37227d7d/root/mnt/GVGAI-GAN/note.ipynb#W2sdnNjb2RlLXJlbW90ZQ%3D%3D?line=6'>7</a>\u001b[0m         hit \u001b[39m+\u001b[39m\u001b[39m=\u001b[39m \u001b[39m1\u001b[39m\n\u001b[1;32m      <a href='vscode-notebook-cell://attached-container%2B7b22636f6e7461696e65724e616d65223a222f706367222c2273657474696e6773223a7b22686f7374223a227373683a2f2f732d74616b6174614031302e372e312e37227d7d/root/mnt/GVGAI-GAN/note.ipynb#W2sdnNjb2RlLXJlbW90ZQ%3D%3D?line=7'>8</a>\u001b[0m \u001b[39mreturn\u001b[39;00m hit\n",
      "\u001b[0;31mKeyboardInterrupt\u001b[0m: "
     ]
    }
   ],
   "source": [
    "latents_for_eval = torch.randn(\n",
    "    10000,\n",
    "    config.latent_size,\n",
    ").to(device)\n",
    "\n",
    "output_levels = generator(latents_for_eval)\n",
    "level_strs = tensor_to_level_str(config.env_name, output_levels)\n",
    "playable_levels = []\n",
    "playable_count = 0\n",
    "for level_str in level_strs:\n",
    "    if check_playable(level_str):\n",
    "        playable_levels.append(level_str)\n",
    "\n",
    "print(\"Playable Ratio:\",len(playable_levels)/10000)\n",
    "\n",
    "\n",
    "latents_for_eval = torch.randn(\n",
    "    1000,\n",
    "    config.latent_size,\n",
    ").to(device)\n",
    "output_levels = generator(latents_for_eval)\n",
    "level_strs = tensor_to_level_str(config.env_name, output_levels)\n",
    "playable_levels = []\n",
    "playable_count = 0\n",
    "for level_str in level_strs:\n",
    "    if check_playable(level_str):\n",
    "        playable_levels.append(level_str)\n",
    "    \n",
    "sum = 0\n",
    "obj_sum = 0\n",
    "n = 0\n",
    "for i in range(len(playable_levels)):\n",
    "    for j in range(len(playable_levels)):\n",
    "        if i==j:\n",
    "            continue\n",
    "        obj_sum += check_level_object_duprecated(playable_levels[i],playable_levels[j])\n",
    "        sum += check_level_hamming(playable_levels[i],playable_levels[j])\n",
    "        n += 1\n",
    "print(\"Hamming Dist:\",sum/n)\n",
    "print(\"Obj Duplication ratio\",obj_sum/n)"
   ]
  },
  {
   "cell_type": "code",
   "execution_count": 108,
   "metadata": {},
   "outputs": [
    {
     "name": "stdout",
     "output_type": "stream",
     "text": [
      "8063\n",
      "10000\n",
      "Duplication Ratio: 0.07989999999999997\n"
     ]
    }
   ],
   "source": [
    "playable_levels = []\n",
    "while True:\n",
    "    latents_for_eval = torch.randn(\n",
    "        10000,\n",
    "        config.latent_size,\n",
    "    ).to(device)\n",
    "\n",
    "    output_levels = generator(latents_for_eval)\n",
    "    level_strs = tensor_to_level_str(config.env_name, output_levels)\n",
    "    playable_count = 0\n",
    "    for level_str in level_strs:\n",
    "        if check_playable(level_str):\n",
    "            playable_levels.append(level_str)\n",
    "            if len(playable_levels) == 10000:\n",
    "                break\n",
    "    print(len(playable_levels))\n",
    "    if len(playable_levels) == 10000:\n",
    "        break\n",
    "unique_levels = list(set(playable_levels))\n",
    "print(\"Duplication Ratio:\", 1-len(unique_levels)/len(playable_levels))\n"
   ]
  },
  {
   "cell_type": "code",
   "execution_count": 89,
   "metadata": {},
   "outputs": [
    {
     "name": "stdout",
     "output_type": "stream",
     "text": [
      "Ave. Wall: 77.40324594257179\n",
      "Ave. Floor: 106.1960049937578\n",
      "Ave. Enemy: 5.400749063670412\n"
     ]
    }
   ],
   "source": [
    "n_w = 0\n",
    "n_f = 0\n",
    "n_e = 0\n",
    "n = 0\n",
    "for level in playable_levels:\n",
    "    n += 1\n",
    "    for c in level:\n",
    "        if c == 'w':\n",
    "            n_w += 1\n",
    "        elif c == '.':\n",
    "            n_f += 1\n",
    "        elif c in ['1','2','3']:\n",
    "            n_e += 1\n",
    "\n",
    "print('Ave. Wall:', n_w/n)\n",
    "print('Ave. Floor:', n_f/n)\n",
    "print('Ave. Enemy:', n_e/n)\n"
   ]
  },
  {
   "cell_type": "code",
   "execution_count": 90,
   "metadata": {},
   "outputs": [
    {
     "ename": "ZeroDivisionError",
     "evalue": "division by zero",
     "output_type": "error",
     "traceback": [
      "\u001b[0;31m---------------------------------------------------------------------------\u001b[0m",
      "\u001b[0;31mZeroDivisionError\u001b[0m                         Traceback (most recent call last)",
      "\u001b[1;32mセル5 を /root/mnt/GVGAI-GAN/note.ipynb\u001b[0m in \u001b[0;36m<cell line: 17>\u001b[0;34m()\u001b[0m\n\u001b[1;32m     <a href='vscode-notebook-cell://attached-container%2B7b22636f6e7461696e65724e616d65223a222f706367222c2273657474696e6773223a7b22686f7374223a227373683a2f2f732d74616b6174614031302e372e312e37227d7d/root/mnt/GVGAI-GAN/note.ipynb#W3sdnNjb2RlLXJlbW90ZQ%3D%3D?line=13'>14</a>\u001b[0m         hamming \u001b[39m+\u001b[39m\u001b[39m=\u001b[39m check_level_hamming(\n\u001b[1;32m     <a href='vscode-notebook-cell://attached-container%2B7b22636f6e7461696e65724e616d65223a222f706367222c2273657474696e6773223a7b22686f7374223a227373683a2f2f732d74616b6174614031302e372e312e37227d7d/root/mnt/GVGAI-GAN/note.ipynb#W3sdnNjb2RlLXJlbW90ZQ%3D%3D?line=14'>15</a>\u001b[0m             real_levels[i], real_levels[j])\n\u001b[1;32m     <a href='vscode-notebook-cell://attached-container%2B7b22636f6e7461696e65724e616d65223a222f706367222c2273657474696e6773223a7b22686f7374223a227373683a2f2f732d74616b6174614031302e372e312e37227d7d/root/mnt/GVGAI-GAN/note.ipynb#W3sdnNjb2RlLXJlbW90ZQ%3D%3D?line=15'>16</a>\u001b[0m         n \u001b[39m+\u001b[39m\u001b[39m=\u001b[39m \u001b[39m1\u001b[39m\n\u001b[0;32m---> <a href='vscode-notebook-cell://attached-container%2B7b22636f6e7461696e65724e616d65223a222f706367222c2273657474696e6773223a7b22686f7374223a227373683a2f2f732d74616b6174614031302e372e312e37227d7d/root/mnt/GVGAI-GAN/note.ipynb#W3sdnNjb2RlLXJlbW90ZQ%3D%3D?line=16'>17</a>\u001b[0m \u001b[39mprint\u001b[39m(hamming\u001b[39m/\u001b[39;49m(n)\u001b[39m/\u001b[39m(\u001b[39m12\u001b[39m\u001b[39m*\u001b[39m\u001b[39m16\u001b[39m))\n",
      "\u001b[0;31mZeroDivisionError\u001b[0m: division by zero"
     ]
    }
   ],
   "source": [
    "import glob\n",
    "\n",
    "files = glob.glob(\"/root/mnt/GVGAI-GAN/gan/data/level/zelda/generated_good/*\")\n",
    "\n",
    "real_levels = []\n",
    "for file in files:\n",
    "    with open(os.path.join(\"/root/mnt/GVGAI-GAN/gan/data/level/zelda/generated_good/\",file),'r') as f:\n",
    "        s = f.read()\n",
    "        real_levels.append(s)\n",
    "hamming = 0\n",
    "n = 0\n",
    "for i in range(0, len(real_levels)):\n",
    "    for j in range(i + 1, len(real_levels)):\n",
    "        hamming += check_level_hamming(\n",
    "            real_levels[i], real_levels[j])\n",
    "        n += 1\n",
    "print(hamming/(n)/(12*16))"
   ]
  },
  {
   "cell_type": "code",
   "execution_count": null,
   "metadata": {},
   "outputs": [
    {
     "name": "stdout",
     "output_type": "stream",
     "text": [
      "0.12806500171009358\n"
     ]
    }
   ],
   "source": [
    "import glob\n",
    "\n",
    "files = glob.glob(\"/root/mnt/GVGAI-GAN/gan/data/level/zelda/generated_large/*\")\n",
    "\n",
    "real_levels = []\n",
    "for file in files:\n",
    "    with open(os.path.join(\"/root/mnt/GVGAI-GAN/gan/data/level/zelda/generated_large/\", file), 'r') as f:\n",
    "        s = f.read()\n",
    "        real_levels.append(s)\n",
    "hamming = 0\n",
    "n = 0\n",
    "for i in range(0, len(real_levels)):\n",
    "    for j in range(i + 1, len(real_levels)):\n",
    "        hamming += check_level_hamming(\n",
    "            real_levels[i], real_levels[j])\n",
    "        n += 1\n",
    "print(hamming/(n)/(12*16))\n"
   ]
  },
  {
   "cell_type": "code",
   "execution_count": null,
   "metadata": {},
   "outputs": [
    {
     "name": "stdout",
     "output_type": "stream",
     "text": [
      "0.2265625\n",
      "Ave. Wall: 71.4\n",
      "Ave. Floor: 114.4\n",
      "Ave. Enemy: 3.2\n"
     ]
    }
   ],
   "source": [
    "import glob\n",
    "\n",
    "files = glob.glob(\"/root/mnt/GVGAI-GAN/gan/data/level/zelda/originals/*\")\n",
    "\n",
    "real_levels = []\n",
    "for file in files:\n",
    "    with open(os.path.join(\"/root/mnt/GVGAI-GAN/gan/data/level/zelda/originals/\", file), 'r') as f:\n",
    "        s = f.read()\n",
    "        real_levels.append(s)\n",
    "hamming = 0\n",
    "n = 0\n",
    "for i in range(0, len(real_levels)):\n",
    "    for j in range(i + 1, len(real_levels)):\n",
    "        hamming += check_level_hamming(\n",
    "            real_levels[i], real_levels[j])\n",
    "        n += 1\n",
    "print(hamming/(n)/(12*16))\n",
    "\n",
    "n_w = 0\n",
    "n_f = 0\n",
    "n_e = 0\n",
    "n = 0\n",
    "for level in real_levels:\n",
    "    n += 1\n",
    "    for c in level:\n",
    "        if c == 'w':\n",
    "            n_w += 1\n",
    "        elif c == '.':\n",
    "            n_f += 1\n",
    "        elif c in ['1', '2', '3']:\n",
    "            n_e += 1\n",
    "\n",
    "print('Ave. Wall:', n_w/n)\n",
    "print('Ave. Floor:', n_f/n)\n",
    "print('Ave. Enemy:', n_e/n)\n"
   ]
  },
  {
   "cell_type": "code",
   "execution_count": null,
   "metadata": {},
   "outputs": [
    {
     "name": "stdout",
     "output_type": "stream",
     "text": [
      "0.24803135521885522\n"
     ]
    }
   ],
   "source": [
    "import glob\n",
    "\n",
    "files = glob.glob(\"/root/mnt/GVGAI-GAN/gan/data/level/zelda/random/*\")\n",
    "\n",
    "real_levels = []\n",
    "for file in files:\n",
    "    with open(os.path.join(\"/root/mnt/GVGAI-GAN/gan/data/level/zelda/random/\", file), 'r') as f:\n",
    "        s = f.read()\n",
    "        real_levels.append(s)\n",
    "hamming = 0\n",
    "n = 0\n",
    "for i in range(0, len(real_levels)):\n",
    "    for j in range(i + 1, len(real_levels)):\n",
    "        hamming += check_level_hamming(\n",
    "            real_levels[i], real_levels[j])\n",
    "        n += 1\n",
    "print(hamming/(n)/(12*16))\n"
   ]
  },
  {
   "cell_type": "code",
   "execution_count": null,
   "metadata": {},
   "outputs": [
    {
     "name": "stdout",
     "output_type": "stream",
     "text": [
      "device : cuda\n"
     ]
    },
    {
     "ename": "TypeError",
     "evalue": "__init__() got an unexpected keyword argument 'use_conditional'",
     "output_type": "error",
     "traceback": [
      "\u001b[0;31m---------------------------------------------------------------------------\u001b[0m",
      "\u001b[0;31mTypeError\u001b[0m                                 Traceback (most recent call last)",
      "\u001b[1;32m/root/mnt/pcg/GVGAI-GAN/note.ipynb Cell 8'\u001b[0m in \u001b[0;36m<cell line: 8>\u001b[0;34m()\u001b[0m\n\u001b[1;32m      <a href='vscode-notebook-cell://attached-container%2B7b22636f6e7461696e65724e616d65223a222f74657374222c2273657474696e6773223a7b22686f7374223a227373683a2f2f732d74616b617461403137322e32312e36342e313931227d7d/root/mnt/pcg/GVGAI-GAN/note.ipynb#ch0000007vscode-remote?line=5'>6</a>\u001b[0m     device \u001b[39m=\u001b[39m torch\u001b[39m.\u001b[39mdevice(\u001b[39m\"\u001b[39m\u001b[39mcpu\u001b[39m\u001b[39m\"\u001b[39m)\n\u001b[1;32m      <a href='vscode-notebook-cell://attached-container%2B7b22636f6e7461696e65724e616d65223a222f74657374222c2273657474696e6773223a7b22686f7374223a227373683a2f2f732d74616b617461403137322e32312e36342e313931227d7d/root/mnt/pcg/GVGAI-GAN/note.ipynb#ch0000007vscode-remote?line=6'>7</a>\u001b[0m     \u001b[39mprint\u001b[39m(\u001b[39m\"\u001b[39m\u001b[39mdevice : cpu\u001b[39m\u001b[39m\"\u001b[39m)\n\u001b[0;32m----> <a href='vscode-notebook-cell://attached-container%2B7b22636f6e7461696e65724e616d65223a222f74657374222c2273657474696e6773223a7b22686f7374223a227373683a2f2f732d74616b617461403137322e32312e36342e313931227d7d/root/mnt/pcg/GVGAI-GAN/note.ipynb#ch0000007vscode-remote?line=7'>8</a>\u001b[0m generator \u001b[39m=\u001b[39m Generator(\n\u001b[1;32m      <a href='vscode-notebook-cell://attached-container%2B7b22636f6e7461696e65724e616d65223a222f74657374222c2273657474696e6773223a7b22686f7374223a227373683a2f2f732d74616b617461403137322e32312e36342e313931227d7d/root/mnt/pcg/GVGAI-GAN/note.ipynb#ch0000007vscode-remote?line=8'>9</a>\u001b[0m     out_dim\u001b[39m=\u001b[39;49mconfig\u001b[39m.\u001b[39;49minput_shape[\u001b[39m0\u001b[39;49m],\n\u001b[1;32m     <a href='vscode-notebook-cell://attached-container%2B7b22636f6e7461696e65724e616d65223a222f74657374222c2273657474696e6773223a7b22686f7374223a227373683a2f2f732d74616b617461403137322e32312e36342e313931227d7d/root/mnt/pcg/GVGAI-GAN/note.ipynb#ch0000007vscode-remote?line=9'>10</a>\u001b[0m     shapes\u001b[39m=\u001b[39;49mconfig\u001b[39m.\u001b[39;49mmodel_shapes,\n\u001b[1;32m     <a href='vscode-notebook-cell://attached-container%2B7b22636f6e7461696e65724e616d65223a222f74657374222c2273657474696e6773223a7b22686f7374223a227373683a2f2f732d74616b617461403137322e32312e36342e313931227d7d/root/mnt/pcg/GVGAI-GAN/note.ipynb#ch0000007vscode-remote?line=10'>11</a>\u001b[0m     z_shape\u001b[39m=\u001b[39;49m(config\u001b[39m.\u001b[39;49mlatent_size,),\n\u001b[1;32m     <a href='vscode-notebook-cell://attached-container%2B7b22636f6e7461696e65724e616d65223a222f74657374222c2273657474696e6773223a7b22686f7374223a227373683a2f2f732d74616b617461403137322e32312e36342e313931227d7d/root/mnt/pcg/GVGAI-GAN/note.ipynb#ch0000007vscode-remote?line=11'>12</a>\u001b[0m     filters\u001b[39m=\u001b[39;49mconfig\u001b[39m.\u001b[39;49mgenerator_filters,\n\u001b[1;32m     <a href='vscode-notebook-cell://attached-container%2B7b22636f6e7461696e65724e616d65223a222f74657374222c2273657474696e6773223a7b22686f7374223a227373683a2f2f732d74616b617461403137322e32312e36342e313931227d7d/root/mnt/pcg/GVGAI-GAN/note.ipynb#ch0000007vscode-remote?line=12'>13</a>\u001b[0m     use_conditional\u001b[39m=\u001b[39;49mconfig\u001b[39m.\u001b[39;49muse_conditional\n\u001b[1;32m     <a href='vscode-notebook-cell://attached-container%2B7b22636f6e7461696e65724e616d65223a222f74657374222c2273657474696e6773223a7b22686f7374223a227373683a2f2f732d74616b617461403137322e32312e36342e313931227d7d/root/mnt/pcg/GVGAI-GAN/note.ipynb#ch0000007vscode-remote?line=13'>14</a>\u001b[0m )\u001b[39m.\u001b[39mto(device)\n\u001b[1;32m     <a href='vscode-notebook-cell://attached-container%2B7b22636f6e7461696e65724e616d65223a222f74657374222c2273657474696e6773223a7b22686f7374223a227373683a2f2f732d74616b617461403137322e32312e36342e313931227d7d/root/mnt/pcg/GVGAI-GAN/note.ipynb#ch0000007vscode-remote?line=15'>16</a>\u001b[0m model_path \u001b[39m=\u001b[39m os\u001b[39m.\u001b[39mpath\u001b[39m.\u001b[39mjoin(\n\u001b[1;32m     <a href='vscode-notebook-cell://attached-container%2B7b22636f6e7461696e65724e616d65223a222f74657374222c2273657474696e6773223a7b22686f7374223a227373683a2f2f732d74616b617461403137322e32312e36342e313931227d7d/root/mnt/pcg/GVGAI-GAN/note.ipynb#ch0000007vscode-remote?line=16'>17</a>\u001b[0m     \u001b[39m\"\u001b[39m\u001b[39m/root/mnt/pcg/GVGAI-GAN/gan/checkpoints/none-795\u001b[39m\u001b[39m\"\u001b[39m, \u001b[39m\"\u001b[39m\u001b[39mmodels.tar\u001b[39m\u001b[39m\"\u001b[39m)\n\u001b[1;32m     <a href='vscode-notebook-cell://attached-container%2B7b22636f6e7461696e65724e616d65223a222f74657374222c2273657474696e6773223a7b22686f7374223a227373683a2f2f732d74616b617461403137322e32312e36342e313931227d7d/root/mnt/pcg/GVGAI-GAN/note.ipynb#ch0000007vscode-remote?line=17'>18</a>\u001b[0m load_model \u001b[39m=\u001b[39m torch\u001b[39m.\u001b[39mload(model_path)\n",
      "\u001b[0;31mTypeError\u001b[0m: __init__() got an unexpected keyword argument 'use_conditional'"
     ]
    }
   ],
   "source": [
    "if config.cuda:\n",
    "    device = torch.device(\n",
    "        \"cuda\" if torch.cuda.is_available else \"cpu\")\n",
    "    print(\"device : cuda\")\n",
    "else:\n",
    "    device = torch.device(\"cpu\")\n",
    "    print(\"device : cpu\")\n",
    "generator = Generator(\n",
    "    out_dim=config.input_shape[0],\n",
    "    shapes=config.model_shapes,\n",
    "    z_shape=(config.latent_size,),\n",
    "    filters=config.generator_filters,\n",
    "    use_conditional=config.use_conditional\n",
    ").to(device)\n",
    "\n",
    "model_path = os.path.join(\n",
    "    \"/root/mnt/pcg/GVGAI-GAN/gan/checkpoints/none-795\", \"models.tar\")\n",
    "load_model = torch.load(model_path)\n",
    "generator.load_state_dict(load_model[\"generator\"])\n",
    "\n",
    "x = torch.randn(config.latent_size).to(device)\n",
    "\n",
    "# es = cma.CMAEvolutionStrategy(config.latent_size*[0], 0.5)\n",
    "# es.optimize(fitness)\n",
    "\n",
    "def fitness(x: torch.Tensor):\n",
    "    x = np.array(x)\n",
    "    latent = torch.FloatTensor(x).view(1, -1, 1, 1)\n",
    "    level = generator(x)\n",
    "    level_str = tensor_to_level_str(level)\n",
    "    playable = check_playable(level_str)\n",
    "    eval = eval(level_str)\n",
    "    return playable*300 + eval\n",
    "\n",
    "def eval(level_str):\n",
    "    wall = 0\n",
    "    enemy = 0\n",
    "    for s, i in enumerate(level_str):\n",
    "        for c, j in enumerate(level_str):\n",
    "            if c == 'w':\n",
    "                wall += 1\n",
    "            if c in ['1', '2', '3']:\n",
    "                enemy += 1\n",
    "    return wall + enemy\n"
   ]
  }
 ],
 "metadata": {
  "interpreter": {
   "hash": "c6f04e54c30bdab06014272fe7a39801e1ba23455c10166a981ed4409abbe2cf"
  },
  "kernelspec": {
   "display_name": "Python 3.8.0 64-bit ('3.8.0')",
   "language": "python",
   "name": "python3"
  },
  "language_info": {
   "codemirror_mode": {
    "name": "ipython",
    "version": 3
   },
   "file_extension": ".py",
   "mimetype": "text/x-python",
   "name": "python",
   "nbconvert_exporter": "python",
   "pygments_lexer": "ipython3",
   "version": "3.8.0"
  },
  "orig_nbformat": 4
 },
 "nbformat": 4,
 "nbformat_minor": 2
}
