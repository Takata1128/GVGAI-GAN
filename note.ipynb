{
 "cells": [
  {
   "cell_type": "code",
   "execution_count": 1,
   "metadata": {},
   "outputs": [
    {
     "name": "stderr",
     "output_type": "stream",
     "text": [
      "/root/.pyenv/versions/3.8.0/lib/python3.8/site-packages/tqdm/auto.py:22: TqdmWarning: IProgress not found. Please update jupyter and ipywidgets. See https://ipywidgets.readthedocs.io/en/stable/user_install.html\n",
      "  from .autonotebook import tqdm as notebook_tqdm\n"
     ]
    },
    {
     "data": {
      "text/plain": [
       "<All keys matched successfully>"
      ]
     },
     "execution_count": 1,
     "metadata": {},
     "output_type": "execute_result"
    }
   ],
   "source": [
    "import torch\n",
    "import os\n",
    "from gan.models import Generator\n",
    "from gan.config import TrainingConfig\n",
    "from gan.utils import tensor_to_level_str,check_playable,check_level_similarity\n",
    "\n",
    "config = TrainingConfig()\n",
    "config.set_env()\n",
    "device = torch.device(\"cuda\")\n",
    "model_save_path = \"/root/mnt/GVGAI-GAN/gan/checkpoints/none-708\"\n",
    "\n",
    "generator = Generator(\n",
    "    out_dim=config.input_shape[0],\n",
    "    shapes=config.model_shapes,\n",
    "    z_shape=(config.latent_size,),\n",
    "    filters=config.generator_filters,\n",
    "    is_self_attention=config.is_self_attention_g,\n",
    "    is_conditional=config.is_conditional,\n",
    ").to(device)\n",
    "\n",
    "model_dict = torch.load(os.path.join(model_save_path, \"models.tar\"))\n",
    "generator.load_state_dict(model_dict[\"generator\"])\n",
    "\n",
    "\n"
   ]
  },
  {
   "cell_type": "code",
   "execution_count": 2,
   "metadata": {},
   "outputs": [],
   "source": [
    "def check_level_hamming(level1: str, level2: str):\n",
    "    hit = 0\n",
    "    for c1, c2 in zip(level1, level2):\n",
    "        if c1 == \"\\n\":\n",
    "            continue\n",
    "        if c1 != c2:\n",
    "            hit += 1\n",
    "    return hit\n"
   ]
  },
  {
   "cell_type": "code",
   "execution_count": 3,
   "metadata": {},
   "outputs": [
    {
     "name": "stdout",
     "output_type": "stream",
     "text": [
      "0.18\n",
      "0.11522027137200093\n",
      "0.20803418803418802\n"
     ]
    }
   ],
   "source": [
    "latents_for_eval = torch.randn(\n",
    "    300,\n",
    "    config.latent_size,\n",
    ").to(device)\n",
    "\n",
    "output_levels = generator(latents_for_eval)\n",
    "\n",
    "level_strs = tensor_to_level_str(config.env_name, output_levels)\n",
    "playable_levels = []\n",
    "playable_count = 0\n",
    "for level_str in level_strs:\n",
    "    if check_playable(level_str):\n",
    "        playable_levels.append(level_str)\n",
    "\n",
    "res_level= 0\n",
    "n=0\n",
    "for i in range(0, len(playable_levels)):\n",
    "    for j in range(i + 1, len(playable_levels)):\n",
    "        res_level += check_level_hamming(\n",
    "            playable_levels[i], playable_levels[j])\n",
    "        n+=1\n",
    "\n",
    "print(len(playable_levels)/300)\n",
    "print(res_level/(n)/(12*16))\n",
    "print(24.34/(9*13))"
   ]
  },
  {
   "cell_type": "code",
   "execution_count": 14,
   "metadata": {},
   "outputs": [
    {
     "name": "stdout",
     "output_type": "stream",
     "text": [
      "0.1607152342422061\n"
     ]
    }
   ],
   "source": [
    "import glob\n",
    "\n",
    "files = glob.glob(\"/root/mnt/GVGAI-GAN/gan/data/level/zelda/generated_good/*\")\n",
    "\n",
    "real_levels = []\n",
    "for file in files:\n",
    "    with open(os.path.join(\"/root/mnt/GVGAI-GAN/gan/data/level/zelda/generated_good/\",file),'r') as f:\n",
    "        s = f.read()\n",
    "        real_levels.append(s)\n",
    "hamming = 0\n",
    "n = 0\n",
    "for i in range(0, len(real_levels)):\n",
    "    for j in range(i + 1, len(real_levels)):\n",
    "        hamming += check_level_hamming(\n",
    "            real_levels[i], real_levels[j])\n",
    "        n += 1\n",
    "print(hamming/(n)/(12*16))"
   ]
  },
  {
   "cell_type": "code",
   "execution_count": 15,
   "metadata": {},
   "outputs": [
    {
     "name": "stdout",
     "output_type": "stream",
     "text": [
      "0.12806500171009358\n"
     ]
    }
   ],
   "source": [
    "import glob\n",
    "\n",
    "files = glob.glob(\"/root/mnt/GVGAI-GAN/gan/data/level/zelda/generated_large/*\")\n",
    "\n",
    "real_levels = []\n",
    "for file in files:\n",
    "    with open(os.path.join(\"/root/mnt/GVGAI-GAN/gan/data/level/zelda/generated_large/\", file), 'r') as f:\n",
    "        s = f.read()\n",
    "        real_levels.append(s)\n",
    "hamming = 0\n",
    "n = 0\n",
    "for i in range(0, len(real_levels)):\n",
    "    for j in range(i + 1, len(real_levels)):\n",
    "        hamming += check_level_hamming(\n",
    "            real_levels[i], real_levels[j])\n",
    "        n += 1\n",
    "print(hamming/(n)/(12*16))\n"
   ]
  },
  {
   "cell_type": "code",
   "execution_count": 10,
   "metadata": {},
   "outputs": [
    {
     "name": "stdout",
     "output_type": "stream",
     "text": [
      "0.2255208333333333\n"
     ]
    }
   ],
   "source": [
    "import glob\n",
    "\n",
    "files = glob.glob(\"/root/mnt/GVGAI-GAN/gan/data/level/zelda/originals/*\")\n",
    "\n",
    "real_levels = []\n",
    "for file in files:\n",
    "    with open(os.path.join(\"/root/mnt/GVGAI-GAN/gan/data/level/zelda/originals/\", file), 'r') as f:\n",
    "        s = f.read()\n",
    "        real_levels.append(s)\n",
    "hamming = 0\n",
    "n = 0\n",
    "for i in range(0, len(real_levels)):\n",
    "    for j in range(i + 1, len(real_levels)):\n",
    "        hamming += check_level_hamming(\n",
    "            real_levels[i], real_levels[j])\n",
    "        n += 1\n",
    "print(hamming/(n)/(12*16))\n"
   ]
  },
  {
   "cell_type": "code",
   "execution_count": 16,
   "metadata": {},
   "outputs": [
    {
     "name": "stdout",
     "output_type": "stream",
     "text": [
      "0.24803135521885522\n"
     ]
    }
   ],
   "source": [
    "import glob\n",
    "\n",
    "files = glob.glob(\"/root/mnt/GVGAI-GAN/gan/data/level/zelda/random/*\")\n",
    "\n",
    "real_levels = []\n",
    "for file in files:\n",
    "    with open(os.path.join(\"/root/mnt/GVGAI-GAN/gan/data/level/zelda/random/\", file), 'r') as f:\n",
    "        s = f.read()\n",
    "        real_levels.append(s)\n",
    "hamming = 0\n",
    "n = 0\n",
    "for i in range(0, len(real_levels)):\n",
    "    for j in range(i + 1, len(real_levels)):\n",
    "        hamming += check_level_hamming(\n",
    "            real_levels[i], real_levels[j])\n",
    "        n += 1\n",
    "print(hamming/(n)/(12*16))\n"
   ]
  }
 ],
 "metadata": {
  "interpreter": {
   "hash": "c6f04e54c30bdab06014272fe7a39801e1ba23455c10166a981ed4409abbe2cf"
  },
  "kernelspec": {
   "display_name": "Python 3.8.0 64-bit ('3.8.0')",
   "language": "python",
   "name": "python3"
  },
  "language_info": {
   "codemirror_mode": {
    "name": "ipython",
    "version": 3
   },
   "file_extension": ".py",
   "mimetype": "text/x-python",
   "name": "python",
   "nbconvert_exporter": "python",
   "pygments_lexer": "ipython3",
   "version": "3.8.0"
  },
  "orig_nbformat": 4
 },
 "nbformat": 4,
 "nbformat_minor": 2
}
