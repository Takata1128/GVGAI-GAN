{
 "cells": [
  {
   "cell_type": "code",
   "execution_count": 1,
   "metadata": {},
   "outputs": [],
   "source": [
    "%load_ext autoreload"
   ]
  },
  {
   "cell_type": "code",
   "execution_count": 2,
   "metadata": {},
   "outputs": [],
   "source": [
    "%autoreload 2"
   ]
  },
  {
   "cell_type": "code",
   "execution_count": 3,
   "metadata": {},
   "outputs": [],
   "source": [
    "%matplotlib ipympl"
   ]
  },
  {
   "cell_type": "code",
   "execution_count": 4,
   "metadata": {},
   "outputs": [],
   "source": [
    "from eval import play\n",
    "from play_rl.policy import Policy\n",
    "from play_rl.wrappers import GridGame\n",
    "from gan.env import Env\n",
    "from random import choice\n",
    "from gan.level_visualizer import LevelVisualizer\n",
    "from gan.utils import tensor_to_level_str\n",
    "import numpy as np\n",
    "import os\n",
    "import torch\n",
    "from PIL import Image\n",
    "import matplotlib.pyplot as plt\n",
    "import matplotlib.animation as animation\n",
    "from IPython import display\n"
   ]
  },
  {
   "cell_type": "code",
   "execution_count": 5,
   "metadata": {},
   "outputs": [
    {
     "name": "stderr",
     "output_type": "stream",
     "text": [
      "UsageError: Line magic function `%export` not found.\n"
     ]
    }
   ],
   "source": [
    "!export DISPLAY=:0"
   ]
  },
  {
   "cell_type": "code",
   "execution_count": null,
   "metadata": {},
   "outputs": [],
   "source": [
    "game_name = 'zelda'\n",
    "device = torch.device('cpu')\n",
    "env_def = Env(name=game_name)\n",
    "level_visualizer = LevelVisualizer(env_def)\n",
    "env = GridGame(game_name=game_name,play_length=200,shape=env_def.state_shape)\n",
    "\n",
    "def show(level_str):\n",
    "    p_level_img = np.array(level_visualizer.draw_level(level_str))\n",
    "    image = Image.fromarray(p_level_img)\n",
    "    image.show()\n",
    "\n",
    "actor = Policy(obs_shape=env.observation_space.shape, action_space=env.action_space,\n",
    "               base_kwargs={\"recurrent\": True}).to(device=device)\n",
    "actor.load_state_dict(torch.load(\"/root/mnt/GVGAI-GAN/play_rl/checkpoints/ppo/zelda_20220819152554.pt\"))\n",
    "\n",
    "levels_dir = '/root/mnt/GVGAI-GAN/gan/data/level/zelda/generated/'\n",
    "\n",
    "files = os.listdir(levels_dir)\n",
    "\n",
    "file = choice(files)\n",
    "print(file)\n",
    "with open(f'/root/mnt/GVGAI-GAN/gan/data/level/zelda/generated/{file}',mode='r') as f:\n",
    "    level_str = f.read()\n",
    "show(level_str)\n",
    "reward,step,frames = play(level_str=level_str,env=env,actor=actor,visualize=True,env_def=env_def)\n",
    "print(reward,step)\n",
    "fig = plt.figure()\n",
    "anim = animation.ArtistAnimation(fig,frames,interval=300)\n",
    "html = display.HTML(anim.to_jshtml())\n",
    "display.display(html)\n",
    "plt.close()"
   ]
  }
 ],
 "metadata": {
  "interpreter": {
   "hash": "c6f04e54c30bdab06014272fe7a39801e1ba23455c10166a981ed4409abbe2cf"
  },
  "kernelspec": {
   "display_name": "Python 3 (ipykernel)",
   "language": "python",
   "name": "python3"
  },
  "language_info": {
   "codemirror_mode": {
    "name": "ipython",
    "version": 3
   },
   "file_extension": ".py",
   "mimetype": "text/x-python",
   "name": "python",
   "nbconvert_exporter": "python",
   "pygments_lexer": "ipython3",
   "version": "3.8.0"
  }
 },
 "nbformat": 4,
 "nbformat_minor": 4
}
